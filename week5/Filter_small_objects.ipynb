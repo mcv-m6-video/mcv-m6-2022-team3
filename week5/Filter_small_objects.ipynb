{
 "cells": [
  {
   "cell_type": "code",
   "execution_count": 1,
   "metadata": {},
   "outputs": [],
   "source": [
    "import pandas as pd"
   ]
  },
  {
   "cell_type": "code",
   "execution_count": 2,
   "metadata": {},
   "outputs": [],
   "source": [
    "path = \"/home/aszummer/Documents/MCV/M6/mcvm6team3/experiments/det_S01_c002/dets.txt\""
   ]
  },
  {
   "cell_type": "code",
   "execution_count": 3,
   "metadata": {},
   "outputs": [],
   "source": [
    "COL_NAMES = ['frame','wtf', 'bb_left', 'bb_top', 'bb_width', 'bb_height', 'conf','del','del1', 'del2']\n",
    "\n",
    "predictions_dict = {}\n",
    "df = pd.read_csv(path, delimiter=',', names=COL_NAMES)"
   ]
  },
  {
   "cell_type": "code",
   "execution_count": 5,
   "metadata": {},
   "outputs": [
    {
     "data": {
      "text/html": [
       "<div>\n",
       "<style scoped>\n",
       "    .dataframe tbody tr th:only-of-type {\n",
       "        vertical-align: middle;\n",
       "    }\n",
       "\n",
       "    .dataframe tbody tr th {\n",
       "        vertical-align: top;\n",
       "    }\n",
       "\n",
       "    .dataframe thead th {\n",
       "        text-align: right;\n",
       "    }\n",
       "</style>\n",
       "<table border=\"1\" class=\"dataframe\">\n",
       "  <thead>\n",
       "    <tr style=\"text-align: right;\">\n",
       "      <th></th>\n",
       "      <th>frame</th>\n",
       "      <th>wtf</th>\n",
       "      <th>bb_left</th>\n",
       "      <th>bb_top</th>\n",
       "      <th>bb_width</th>\n",
       "      <th>bb_height</th>\n",
       "      <th>conf</th>\n",
       "      <th>del</th>\n",
       "      <th>del1</th>\n",
       "      <th>del2</th>\n",
       "    </tr>\n",
       "  </thead>\n",
       "  <tbody>\n",
       "    <tr>\n",
       "      <th>0</th>\n",
       "      <td>1</td>\n",
       "      <td>-1</td>\n",
       "      <td>125.547150</td>\n",
       "      <td>457.378235</td>\n",
       "      <td>497.644684</td>\n",
       "      <td>192.784485</td>\n",
       "      <td>0.995978</td>\n",
       "      <td>-1</td>\n",
       "      <td>-1</td>\n",
       "      <td>-1</td>\n",
       "    </tr>\n",
       "    <tr>\n",
       "      <th>1</th>\n",
       "      <td>1</td>\n",
       "      <td>-1</td>\n",
       "      <td>908.480835</td>\n",
       "      <td>215.337616</td>\n",
       "      <td>93.613708</td>\n",
       "      <td>93.334076</td>\n",
       "      <td>0.977238</td>\n",
       "      <td>-1</td>\n",
       "      <td>-1</td>\n",
       "      <td>-1</td>\n",
       "    </tr>\n",
       "    <tr>\n",
       "      <th>2</th>\n",
       "      <td>1</td>\n",
       "      <td>-1</td>\n",
       "      <td>867.040527</td>\n",
       "      <td>165.821320</td>\n",
       "      <td>71.281250</td>\n",
       "      <td>49.733170</td>\n",
       "      <td>0.976740</td>\n",
       "      <td>-1</td>\n",
       "      <td>-1</td>\n",
       "      <td>-1</td>\n",
       "    </tr>\n",
       "    <tr>\n",
       "      <th>3</th>\n",
       "      <td>1</td>\n",
       "      <td>-1</td>\n",
       "      <td>1265.807617</td>\n",
       "      <td>277.298828</td>\n",
       "      <td>95.997681</td>\n",
       "      <td>82.097351</td>\n",
       "      <td>0.943682</td>\n",
       "      <td>-1</td>\n",
       "      <td>-1</td>\n",
       "      <td>-1</td>\n",
       "    </tr>\n",
       "    <tr>\n",
       "      <th>4</th>\n",
       "      <td>1</td>\n",
       "      <td>-1</td>\n",
       "      <td>1312.205444</td>\n",
       "      <td>108.778412</td>\n",
       "      <td>60.943726</td>\n",
       "      <td>21.335312</td>\n",
       "      <td>0.908940</td>\n",
       "      <td>-1</td>\n",
       "      <td>-1</td>\n",
       "      <td>-1</td>\n",
       "    </tr>\n",
       "  </tbody>\n",
       "</table>\n",
       "</div>"
      ],
      "text/plain": [
       "   frame  wtf      bb_left      bb_top    bb_width   bb_height      conf  del  \\\n",
       "0      1   -1   125.547150  457.378235  497.644684  192.784485  0.995978   -1   \n",
       "1      1   -1   908.480835  215.337616   93.613708   93.334076  0.977238   -1   \n",
       "2      1   -1   867.040527  165.821320   71.281250   49.733170  0.976740   -1   \n",
       "3      1   -1  1265.807617  277.298828   95.997681   82.097351  0.943682   -1   \n",
       "4      1   -1  1312.205444  108.778412   60.943726   21.335312  0.908940   -1   \n",
       "\n",
       "   del1  del2  \n",
       "0    -1    -1  \n",
       "1    -1    -1  \n",
       "2    -1    -1  \n",
       "3    -1    -1  \n",
       "4    -1    -1  "
      ]
     },
     "execution_count": 5,
     "metadata": {},
     "output_type": "execute_result"
    }
   ],
   "source": [
    "df.head()"
   ]
  },
  {
   "cell_type": "code",
   "execution_count": 9,
   "metadata": {},
   "outputs": [
    {
     "data": {
      "text/plain": [
       "(69133, 10)"
      ]
     },
     "execution_count": 9,
     "metadata": {},
     "output_type": "execute_result"
    }
   ],
   "source": [
    "df.shape"
   ]
  },
  {
   "cell_type": "code",
   "execution_count": 39,
   "metadata": {},
   "outputs": [],
   "source": [
    "df_test = df\n",
    "df_bigger_then_1000 = df_test[(df_test['bb_width'] * df_test['bb_height']) > 3000]\n",
    "df_without_top_10 = df_bigger_then_1000[df_bigger_then_1000['bb_top']>100]"
   ]
  },
  {
   "cell_type": "code",
   "execution_count": 40,
   "metadata": {},
   "outputs": [
    {
     "data": {
      "text/plain": [
       "(17545, 10)"
      ]
     },
     "execution_count": 40,
     "metadata": {},
     "output_type": "execute_result"
    }
   ],
   "source": [
    "df_bigger_then_1000.shape"
   ]
  },
  {
   "cell_type": "code",
   "execution_count": 41,
   "metadata": {},
   "outputs": [
    {
     "data": {
      "text/plain": [
       "(13807, 10)"
      ]
     },
     "execution_count": 41,
     "metadata": {},
     "output_type": "execute_result"
    }
   ],
   "source": [
    "df_without_top_10.shape"
   ]
  },
  {
   "cell_type": "code",
   "execution_count": 42,
   "metadata": {},
   "outputs": [],
   "source": [
    "df_without_top_10.to_csv('dets_small.txt', index=False, header=False)"
   ]
  },
  {
   "cell_type": "code",
   "execution_count": 38,
   "metadata": {},
   "outputs": [
    {
     "data": {
      "text/html": [
       "<div>\n",
       "<style scoped>\n",
       "    .dataframe tbody tr th:only-of-type {\n",
       "        vertical-align: middle;\n",
       "    }\n",
       "\n",
       "    .dataframe tbody tr th {\n",
       "        vertical-align: top;\n",
       "    }\n",
       "\n",
       "    .dataframe thead th {\n",
       "        text-align: right;\n",
       "    }\n",
       "</style>\n",
       "<table border=\"1\" class=\"dataframe\">\n",
       "  <thead>\n",
       "    <tr style=\"text-align: right;\">\n",
       "      <th></th>\n",
       "      <th>frame</th>\n",
       "      <th>wtf</th>\n",
       "      <th>bb_left</th>\n",
       "      <th>bb_top</th>\n",
       "      <th>bb_width</th>\n",
       "      <th>bb_height</th>\n",
       "      <th>conf</th>\n",
       "      <th>del</th>\n",
       "      <th>del1</th>\n",
       "      <th>del2</th>\n",
       "    </tr>\n",
       "  </thead>\n",
       "  <tbody>\n",
       "    <tr>\n",
       "      <th>5</th>\n",
       "      <td>1</td>\n",
       "      <td>-1</td>\n",
       "      <td>722.762756</td>\n",
       "      <td>77.787109</td>\n",
       "      <td>29.893250</td>\n",
       "      <td>20.512169</td>\n",
       "      <td>0.780833</td>\n",
       "      <td>-1</td>\n",
       "      <td>-1</td>\n",
       "      <td>-1</td>\n",
       "    </tr>\n",
       "    <tr>\n",
       "      <th>8</th>\n",
       "      <td>1</td>\n",
       "      <td>-1</td>\n",
       "      <td>230.793289</td>\n",
       "      <td>41.624142</td>\n",
       "      <td>21.263458</td>\n",
       "      <td>20.091164</td>\n",
       "      <td>0.320179</td>\n",
       "      <td>-1</td>\n",
       "      <td>-1</td>\n",
       "      <td>-1</td>\n",
       "    </tr>\n",
       "    <tr>\n",
       "      <th>9</th>\n",
       "      <td>1</td>\n",
       "      <td>-1</td>\n",
       "      <td>408.770050</td>\n",
       "      <td>51.349976</td>\n",
       "      <td>21.667969</td>\n",
       "      <td>17.348450</td>\n",
       "      <td>0.315587</td>\n",
       "      <td>-1</td>\n",
       "      <td>-1</td>\n",
       "      <td>-1</td>\n",
       "    </tr>\n",
       "    <tr>\n",
       "      <th>10</th>\n",
       "      <td>1</td>\n",
       "      <td>-1</td>\n",
       "      <td>767.977417</td>\n",
       "      <td>59.644451</td>\n",
       "      <td>20.173096</td>\n",
       "      <td>14.311771</td>\n",
       "      <td>0.303920</td>\n",
       "      <td>-1</td>\n",
       "      <td>-1</td>\n",
       "      <td>-1</td>\n",
       "    </tr>\n",
       "    <tr>\n",
       "      <th>11</th>\n",
       "      <td>1</td>\n",
       "      <td>-1</td>\n",
       "      <td>385.498657</td>\n",
       "      <td>69.868347</td>\n",
       "      <td>28.111816</td>\n",
       "      <td>17.983971</td>\n",
       "      <td>0.291241</td>\n",
       "      <td>-1</td>\n",
       "      <td>-1</td>\n",
       "      <td>-1</td>\n",
       "    </tr>\n",
       "    <tr>\n",
       "      <th>...</th>\n",
       "      <td>...</td>\n",
       "      <td>...</td>\n",
       "      <td>...</td>\n",
       "      <td>...</td>\n",
       "      <td>...</td>\n",
       "      <td>...</td>\n",
       "      <td>...</td>\n",
       "      <td>...</td>\n",
       "      <td>...</td>\n",
       "      <td>...</td>\n",
       "    </tr>\n",
       "    <tr>\n",
       "      <th>69126</th>\n",
       "      <td>2110</td>\n",
       "      <td>-1</td>\n",
       "      <td>677.853638</td>\n",
       "      <td>68.620316</td>\n",
       "      <td>47.970886</td>\n",
       "      <td>20.835640</td>\n",
       "      <td>0.088422</td>\n",
       "      <td>-1</td>\n",
       "      <td>-1</td>\n",
       "      <td>-1</td>\n",
       "    </tr>\n",
       "    <tr>\n",
       "      <th>69127</th>\n",
       "      <td>2110</td>\n",
       "      <td>-1</td>\n",
       "      <td>304.598511</td>\n",
       "      <td>46.034626</td>\n",
       "      <td>34.343506</td>\n",
       "      <td>17.424938</td>\n",
       "      <td>0.083232</td>\n",
       "      <td>-1</td>\n",
       "      <td>-1</td>\n",
       "      <td>-1</td>\n",
       "    </tr>\n",
       "    <tr>\n",
       "      <th>69130</th>\n",
       "      <td>2110</td>\n",
       "      <td>-1</td>\n",
       "      <td>729.489075</td>\n",
       "      <td>69.916748</td>\n",
       "      <td>30.737549</td>\n",
       "      <td>24.011948</td>\n",
       "      <td>0.059890</td>\n",
       "      <td>-1</td>\n",
       "      <td>-1</td>\n",
       "      <td>-1</td>\n",
       "    </tr>\n",
       "    <tr>\n",
       "      <th>69131</th>\n",
       "      <td>2110</td>\n",
       "      <td>-1</td>\n",
       "      <td>313.558990</td>\n",
       "      <td>50.790253</td>\n",
       "      <td>33.528168</td>\n",
       "      <td>14.834183</td>\n",
       "      <td>0.059227</td>\n",
       "      <td>-1</td>\n",
       "      <td>-1</td>\n",
       "      <td>-1</td>\n",
       "    </tr>\n",
       "    <tr>\n",
       "      <th>69132</th>\n",
       "      <td>2110</td>\n",
       "      <td>-1</td>\n",
       "      <td>734.423035</td>\n",
       "      <td>79.524025</td>\n",
       "      <td>20.255737</td>\n",
       "      <td>19.135857</td>\n",
       "      <td>0.054960</td>\n",
       "      <td>-1</td>\n",
       "      <td>-1</td>\n",
       "      <td>-1</td>\n",
       "    </tr>\n",
       "  </tbody>\n",
       "</table>\n",
       "<p>39357 rows × 10 columns</p>\n",
       "</div>"
      ],
      "text/plain": [
       "       frame  wtf     bb_left     bb_top   bb_width  bb_height      conf  del  \\\n",
       "5          1   -1  722.762756  77.787109  29.893250  20.512169  0.780833   -1   \n",
       "8          1   -1  230.793289  41.624142  21.263458  20.091164  0.320179   -1   \n",
       "9          1   -1  408.770050  51.349976  21.667969  17.348450  0.315587   -1   \n",
       "10         1   -1  767.977417  59.644451  20.173096  14.311771  0.303920   -1   \n",
       "11         1   -1  385.498657  69.868347  28.111816  17.983971  0.291241   -1   \n",
       "...      ...  ...         ...        ...        ...        ...       ...  ...   \n",
       "69126   2110   -1  677.853638  68.620316  47.970886  20.835640  0.088422   -1   \n",
       "69127   2110   -1  304.598511  46.034626  34.343506  17.424938  0.083232   -1   \n",
       "69130   2110   -1  729.489075  69.916748  30.737549  24.011948  0.059890   -1   \n",
       "69131   2110   -1  313.558990  50.790253  33.528168  14.834183  0.059227   -1   \n",
       "69132   2110   -1  734.423035  79.524025  20.255737  19.135857  0.054960   -1   \n",
       "\n",
       "       del1  del2  \n",
       "5        -1    -1  \n",
       "8        -1    -1  \n",
       "9        -1    -1  \n",
       "10       -1    -1  \n",
       "11       -1    -1  \n",
       "...     ...   ...  \n",
       "69126    -1    -1  \n",
       "69127    -1    -1  \n",
       "69130    -1    -1  \n",
       "69131    -1    -1  \n",
       "69132    -1    -1  \n",
       "\n",
       "[39357 rows x 10 columns]"
      ]
     },
     "execution_count": 38,
     "metadata": {},
     "output_type": "execute_result"
    }
   ],
   "source": [
    "df_smaller_then_1000"
   ]
  },
  {
   "cell_type": "code",
   "execution_count": null,
   "metadata": {},
   "outputs": [],
   "source": []
  }
 ],
 "metadata": {
  "interpreter": {
   "hash": "5180dbdd6916478cc47a8d33a5dd0408e3ab0aeb9d09f1d4272c1b763ce04b71"
  },
  "kernelspec": {
   "display_name": "Python 3.8.13 ('M6')",
   "language": "python",
   "name": "python3"
  },
  "language_info": {
   "codemirror_mode": {
    "name": "ipython",
    "version": 3
   },
   "file_extension": ".py",
   "mimetype": "text/x-python",
   "name": "python",
   "nbconvert_exporter": "python",
   "pygments_lexer": "ipython3",
   "version": "3.8.13"
  },
  "orig_nbformat": 4
 },
 "nbformat": 4,
 "nbformat_minor": 2
}
