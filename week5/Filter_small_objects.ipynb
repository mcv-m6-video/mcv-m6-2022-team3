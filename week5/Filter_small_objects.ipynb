{
 "cells": [
  {
   "cell_type": "code",
   "execution_count": 1,
   "metadata": {},
   "outputs": [],
   "source": [
    "import pandas as pd"
   ]
  },
  {
   "cell_type": "code",
   "execution_count": 2,
   "metadata": {},
   "outputs": [],
   "source": [
    "path = \"/home/aszummer/Documents/MCV/M6/mcvm6team3/experiments/det_S01_c002/dets.txt\""
   ]
  },
  {
   "cell_type": "code",
   "execution_count": 3,
   "metadata": {},
   "outputs": [],
   "source": [
    "COL_NAMES = ['frame','wtf', 'bb_left', 'bb_top', 'bb_width', 'bb_height', 'conf','del','del1', 'del2']\n",
    "\n",
    "predictions_dict = {}\n",
    "df = pd.read_csv(path, delimiter=',', names=COL_NAMES)"
   ]
  },
  {
   "cell_type": "code",
   "execution_count": 5,
   "metadata": {},
   "outputs": [
    {
     "data": {
      "text/html": [
       "<div>\n",
       "<style scoped>\n",
       "    .dataframe tbody tr th:only-of-type {\n",
       "        vertical-align: middle;\n",
       "    }\n",
       "\n",
       "    .dataframe tbody tr th {\n",
       "        vertical-align: top;\n",
       "    }\n",
       "\n",
       "    .dataframe thead th {\n",
       "        text-align: right;\n",
       "    }\n",
       "</style>\n",
       "<table border=\"1\" class=\"dataframe\">\n",
       "  <thead>\n",
       "    <tr style=\"text-align: right;\">\n",
       "      <th></th>\n",
       "      <th>frame</th>\n",
       "      <th>wtf</th>\n",
       "      <th>bb_left</th>\n",
       "      <th>bb_top</th>\n",
       "      <th>bb_width</th>\n",
       "      <th>bb_height</th>\n",
       "      <th>conf</th>\n",
       "      <th>del</th>\n",
       "      <th>del1</th>\n",
       "      <th>del2</th>\n",
       "    </tr>\n",
       "  </thead>\n",
       "  <tbody>\n",
       "    <tr>\n",
       "      <th>0</th>\n",
       "      <td>1</td>\n",
       "      <td>-1</td>\n",
       "      <td>125.547150</td>\n",
       "      <td>457.378235</td>\n",
       "      <td>497.644684</td>\n",
       "      <td>192.784485</td>\n",
       "      <td>0.995978</td>\n",
       "      <td>-1</td>\n",
       "      <td>-1</td>\n",
       "      <td>-1</td>\n",
       "    </tr>\n",
       "    <tr>\n",
       "      <th>1</th>\n",
       "      <td>1</td>\n",
       "      <td>-1</td>\n",
       "      <td>908.480835</td>\n",
       "      <td>215.337616</td>\n",
       "      <td>93.613708</td>\n",
       "      <td>93.334076</td>\n",
       "      <td>0.977238</td>\n",
       "      <td>-1</td>\n",
       "      <td>-1</td>\n",
       "      <td>-1</td>\n",
       "    </tr>\n",
       "    <tr>\n",
       "      <th>2</th>\n",
       "      <td>1</td>\n",
       "      <td>-1</td>\n",
       "      <td>867.040527</td>\n",
       "      <td>165.821320</td>\n",
       "      <td>71.281250</td>\n",
       "      <td>49.733170</td>\n",
       "      <td>0.976740</td>\n",
       "      <td>-1</td>\n",
       "      <td>-1</td>\n",
       "      <td>-1</td>\n",
       "    </tr>\n",
       "    <tr>\n",
       "      <th>3</th>\n",
       "      <td>1</td>\n",
       "      <td>-1</td>\n",
       "      <td>1265.807617</td>\n",
       "      <td>277.298828</td>\n",
       "      <td>95.997681</td>\n",
       "      <td>82.097351</td>\n",
       "      <td>0.943682</td>\n",
       "      <td>-1</td>\n",
       "      <td>-1</td>\n",
       "      <td>-1</td>\n",
       "    </tr>\n",
       "    <tr>\n",
       "      <th>4</th>\n",
       "      <td>1</td>\n",
       "      <td>-1</td>\n",
       "      <td>1312.205444</td>\n",
       "      <td>108.778412</td>\n",
       "      <td>60.943726</td>\n",
       "      <td>21.335312</td>\n",
       "      <td>0.908940</td>\n",
       "      <td>-1</td>\n",
       "      <td>-1</td>\n",
       "      <td>-1</td>\n",
       "    </tr>\n",
       "  </tbody>\n",
       "</table>\n",
       "</div>"
      ],
      "text/plain": [
       "   frame  wtf      bb_left      bb_top    bb_width   bb_height      conf  del  \\\n",
       "0      1   -1   125.547150  457.378235  497.644684  192.784485  0.995978   -1   \n",
       "1      1   -1   908.480835  215.337616   93.613708   93.334076  0.977238   -1   \n",
       "2      1   -1   867.040527  165.821320   71.281250   49.733170  0.976740   -1   \n",
       "3      1   -1  1265.807617  277.298828   95.997681   82.097351  0.943682   -1   \n",
       "4      1   -1  1312.205444  108.778412   60.943726   21.335312  0.908940   -1   \n",
       "\n",
       "   del1  del2  \n",
       "0    -1    -1  \n",
       "1    -1    -1  \n",
       "2    -1    -1  \n",
       "3    -1    -1  \n",
       "4    -1    -1  "
      ]
     },
     "execution_count": 5,
     "metadata": {},
     "output_type": "execute_result"
    }
   ],
   "source": [
    "df.head()"
   ]
  },
  {
   "cell_type": "code",
   "execution_count": 9,
   "metadata": {},
   "outputs": [
    {
     "data": {
      "text/plain": [
       "(69133, 10)"
      ]
     },
     "execution_count": 9,
     "metadata": {},
     "output_type": "execute_result"
    }
   ],
   "source": [
    "df.shape"
   ]
  },
  {
   "cell_type": "code",
   "execution_count": 39,
   "metadata": {},
   "outputs": [],
   "source": [
    "df_test = df\n",
    "df_bigger_then_1000 = df_test[(df_test['bb_width'] * df_test['bb_height']) > 3000]\n",
    "df_without_top_10 = df_bigger_then_1000[df_bigger_then_1000['bb_top']>100]"
   ]
  },
  {
   "cell_type": "code",
   "execution_count": 40,
   "metadata": {},
   "outputs": [
    {
     "data": {
      "text/plain": [
       "(17545, 10)"
      ]
     },
     "execution_count": 40,
     "metadata": {},
     "output_type": "execute_result"
    }
   ],
   "source": [
    "df_bigger_then_1000.shape"
   ]
  },
  {
   "cell_type": "code",
   "execution_count": 41,
   "metadata": {},
   "outputs": [
    {
     "data": {
      "text/plain": [
       "(13807, 10)"
      ]
     },
     "execution_count": 41,
     "metadata": {},
     "output_type": "execute_result"
    }
   ],
   "source": [
    "df_without_top_10.shape"
   ]
  },
  {
   "cell_type": "code",
   "execution_count": 42,
   "metadata": {},
   "outputs": [],
   "source": [
    "df_without_top_10.to_csv('dets_small.txt', index=False, header=False)"
   ]
  },
  {
   "cell_type": "code",
   "execution_count": 38,
   "metadata": {},
   "outputs": [
    {
     "data": {
      "text/html": [
       "<div>\n",
       "<style scoped>\n",
       "    .dataframe tbody tr th:only-of-type {\n",
       "        vertical-align: middle;\n",
       "    }\n",
       "\n",
       "    .dataframe tbody tr th {\n",
       "        vertical-align: top;\n",
       "    }\n",
       "\n",
       "    .dataframe thead th {\n",
       "        text-align: right;\n",
       "    }\n",
       "</style>\n",
       "<table border=\"1\" class=\"dataframe\">\n",
       "  <thead>\n",
       "    <tr style=\"text-align: right;\">\n",
       "      <th></th>\n",
       "      <th>frame</th>\n",
       "      <th>wtf</th>\n",
       "      <th>bb_left</th>\n",
       "      <th>bb_top</th>\n",
       "      <th>bb_width</th>\n",
       "      <th>bb_height</th>\n",
       "      <th>conf</th>\n",
       "      <th>del</th>\n",
       "      <th>del1</th>\n",
       "      <th>del2</th>\n",
       "    </tr>\n",
       "  </thead>\n",
       "  <tbody>\n",
       "    <tr>\n",
       "      <th>5</th>\n",
       "      <td>1</td>\n",
       "      <td>-1</td>\n",
       "      <td>722.762756</td>\n",
       "      <td>77.787109</td>\n",
       "      <td>29.893250</td>\n",
       "      <td>20.512169</td>\n",
       "      <td>0.780833</td>\n",
       "      <td>-1</td>\n",
       "      <td>-1</td>\n",
       "      <td>-1</td>\n",
       "    </tr>\n",
       "    <tr>\n",
       "      <th>8</th>\n",
       "      <td>1</td>\n",
       "      <td>-1</td>\n",
       "      <td>230.793289</td>\n",
       "      <td>41.624142</td>\n",
       "      <td>21.263458</td>\n",
       "      <td>20.091164</td>\n",
       "      <td>0.320179</td>\n",
       "      <td>-1</td>\n",
       "      <td>-1</td>\n",
       "      <td>-1</td>\n",
       "    </tr>\n",
       "    <tr>\n",
       "      <th>9</th>\n",
       "      <td>1</td>\n",
       "      <td>-1</td>\n",
       "      <td>408.770050</td>\n",
       "      <td>51.349976</td>\n",
       "      <td>21.667969</td>\n",
       "      <td>17.348450</td>\n",
       "      <td>0.315587</td>\n",
       "      <td>-1</td>\n",
       "      <td>-1</td>\n",
       "      <td>-1</td>\n",
       "    </tr>\n",
       "    <tr>\n",
       "      <th>10</th>\n",
       "      <td>1</td>\n",
       "      <td>-1</td>\n",
       "      <td>767.977417</td>\n",
       "      <td>59.644451</td>\n",
       "      <td>20.173096</td>\n",
       "      <td>14.311771</td>\n",
       "      <td>0.303920</td>\n",
       "      <td>-1</td>\n",
       "      <td>-1</td>\n",
       "      <td>-1</td>\n",
       "    </tr>\n",
       "    <tr>\n",
       "      <th>11</th>\n",
       "      <td>1</td>\n",
       "      <td>-1</td>\n",
       "      <td>385.498657</td>\n",
       "      <td>69.868347</td>\n",
       "      <td>28.111816</td>\n",
       "      <td>17.983971</td>\n",
       "      <td>0.291241</td>\n",
       "      <td>-1</td>\n",
       "      <td>-1</td>\n",
       "      <td>-1</td>\n",
       "    </tr>\n",
       "    <tr>\n",
       "      <th>...</th>\n",
       "      <td>...</td>\n",
       "      <td>...</td>\n",
       "      <td>...</td>\n",
       "      <td>...</td>\n",
       "      <td>...</td>\n",
       "      <td>...</td>\n",
       "      <td>...</td>\n",
       "      <td>...</td>\n",
       "      <td>...</td>\n",
       "      <td>...</td>\n",
       "    </tr>\n",
       "    <tr>\n",
       "      <th>69126</th>\n",
       "      <td>2110</td>\n",
       "      <td>-1</td>\n",
       "      <td>677.853638</td>\n",
       "      <td>68.620316</td>\n",
       "      <td>47.970886</td>\n",
       "      <td>20.835640</td>\n",
       "      <td>0.088422</td>\n",
       "      <td>-1</td>\n",
       "      <td>-1</td>\n",
       "      <td>-1</td>\n",
       "    </tr>\n",
       "    <tr>\n",
       "      <th>69127</th>\n",
       "      <td>2110</td>\n",
       "      <td>-1</td>\n",
       "      <td>304.598511</td>\n",
       "      <td>46.034626</td>\n",
       "      <td>34.343506</td>\n",
       "      <td>17.424938</td>\n",
       "      <td>0.083232</td>\n",
       "      <td>-1</td>\n",
       "      <td>-1</td>\n",
       "      <td>-1</td>\n",
       "    </tr>\n",
       "    <tr>\n",
       "      <th>69130</th>\n",
       "      <td>2110</td>\n",
       "      <td>-1</td>\n",
       "      <td>729.489075</td>\n",
       "      <td>69.916748</td>\n",
       "      <td>30.737549</td>\n",
       "      <td>24.011948</td>\n",
       "      <td>0.059890</td>\n",
       "      <td>-1</td>\n",
       "      <td>-1</td>\n",
       "      <td>-1</td>\n",
       "    </tr>\n",
       "    <tr>\n",
       "      <th>69131</th>\n",
       "      <td>2110</td>\n",
       "      <td>-1</td>\n",
       "      <td>313.558990</td>\n",
       "      <td>50.790253</td>\n",
       "      <td>33.528168</td>\n",
       "      <td>14.834183</td>\n",
       "      <td>0.059227</td>\n",
       "      <td>-1</td>\n",
       "      <td>-1</td>\n",
       "      <td>-1</td>\n",
       "    </tr>\n",
       "    <tr>\n",
       "      <th>69132</th>\n",
       "      <td>2110</td>\n",
       "      <td>-1</td>\n",
       "      <td>734.423035</td>\n",
       "      <td>79.524025</td>\n",
       "      <td>20.255737</td>\n",
       "      <td>19.135857</td>\n",
       "      <td>0.054960</td>\n",
       "      <td>-1</td>\n",
       "      <td>-1</td>\n",
       "      <td>-1</td>\n",
       "    </tr>\n",
       "  </tbody>\n",
       "</table>\n",
       "<p>39357 rows × 10 columns</p>\n",
       "</div>"
      ],
      "text/plain": [
       "       frame  wtf     bb_left     bb_top   bb_width  bb_height      conf  del  \\\n",
       "5          1   -1  722.762756  77.787109  29.893250  20.512169  0.780833   -1   \n",
       "8          1   -1  230.793289  41.624142  21.263458  20.091164  0.320179   -1   \n",
       "9          1   -1  408.770050  51.349976  21.667969  17.348450  0.315587   -1   \n",
       "10         1   -1  767.977417  59.644451  20.173096  14.311771  0.303920   -1   \n",
       "11         1   -1  385.498657  69.868347  28.111816  17.983971  0.291241   -1   \n",
       "...      ...  ...         ...        ...        ...        ...       ...  ...   \n",
       "69126   2110   -1  677.853638  68.620316  47.970886  20.835640  0.088422   -1   \n",
       "69127   2110   -1  304.598511  46.034626  34.343506  17.424938  0.083232   -1   \n",
       "69130   2110   -1  729.489075  69.916748  30.737549  24.011948  0.059890   -1   \n",
       "69131   2110   -1  313.558990  50.790253  33.528168  14.834183  0.059227   -1   \n",
       "69132   2110   -1  734.423035  79.524025  20.255737  19.135857  0.054960   -1   \n",
       "\n",
       "       del1  del2  \n",
       "5        -1    -1  \n",
       "8        -1    -1  \n",
       "9        -1    -1  \n",
       "10       -1    -1  \n",
       "11       -1    -1  \n",
       "...     ...   ...  \n",
       "69126    -1    -1  \n",
       "69127    -1    -1  \n",
       "69130    -1    -1  \n",
       "69131    -1    -1  \n",
       "69132    -1    -1  \n",
       "\n",
       "[39357 rows x 10 columns]"
      ]
     },
     "execution_count": 38,
     "metadata": {},
     "output_type": "execute_result"
    }
   ],
   "source": [
    "df_smaller_then_1000"
   ]
  },
  {
   "cell_type": "code",
   "execution_count": 17,
   "metadata": {},
   "outputs": [],
   "source": [
    "path  = '/home/aszummer/Documents/MCV/M6/mcvm6team3/experiments/FasterRCNN_finetune_S01_S04_e2/S03/c010/features.txt'"
   ]
  },
  {
   "cell_type": "code",
   "execution_count": 18,
   "metadata": {},
   "outputs": [
    {
     "data": {
      "text/plain": [
       "'0'"
      ]
     },
     "execution_count": 18,
     "metadata": {},
     "output_type": "execute_result"
    }
   ],
   "source": []
  },
  {
   "cell_type": "code",
   "execution_count": 19,
   "metadata": {},
   "outputs": [],
   "source": [
    "COL_NAMES = [str(x) for x in range(0,512)]\n",
    "COL_NAMES[0]\n",
    "df = pd.read_csv(path, delimiter=',', names=COL_NAMES)"
   ]
  },
  {
   "cell_type": "code",
   "execution_count": 25,
   "metadata": {},
   "outputs": [
    {
     "data": {
      "text/html": [
       "<div>\n",
       "<style scoped>\n",
       "    .dataframe tbody tr th:only-of-type {\n",
       "        vertical-align: middle;\n",
       "    }\n",
       "\n",
       "    .dataframe tbody tr th {\n",
       "        vertical-align: top;\n",
       "    }\n",
       "\n",
       "    .dataframe thead th {\n",
       "        text-align: right;\n",
       "    }\n",
       "</style>\n",
       "<table border=\"1\" class=\"dataframe\">\n",
       "  <thead>\n",
       "    <tr style=\"text-align: right;\">\n",
       "      <th></th>\n",
       "      <th>0</th>\n",
       "      <th>1</th>\n",
       "      <th>2</th>\n",
       "      <th>3</th>\n",
       "      <th>4</th>\n",
       "      <th>5</th>\n",
       "      <th>6</th>\n",
       "      <th>7</th>\n",
       "      <th>8</th>\n",
       "      <th>9</th>\n",
       "      <th>...</th>\n",
       "      <th>502</th>\n",
       "      <th>503</th>\n",
       "      <th>504</th>\n",
       "      <th>505</th>\n",
       "      <th>506</th>\n",
       "      <th>507</th>\n",
       "      <th>508</th>\n",
       "      <th>509</th>\n",
       "      <th>510</th>\n",
       "      <th>511</th>\n",
       "    </tr>\n",
       "  </thead>\n",
       "  <tbody>\n",
       "    <tr>\n",
       "      <th>0</th>\n",
       "      <td>0.0462</td>\n",
       "      <td>-0.1063</td>\n",
       "      <td>-0.0272</td>\n",
       "      <td>-0.0048</td>\n",
       "      <td>0.0343</td>\n",
       "      <td>0.1125</td>\n",
       "      <td>0.0525</td>\n",
       "      <td>-0.0468</td>\n",
       "      <td>0.0044</td>\n",
       "      <td>0.0152</td>\n",
       "      <td>...</td>\n",
       "      <td>0.0042</td>\n",
       "      <td>0.0066</td>\n",
       "      <td>0.0747</td>\n",
       "      <td>-0.0256</td>\n",
       "      <td>-0.0021</td>\n",
       "      <td>-0.0465</td>\n",
       "      <td>-0.0116</td>\n",
       "      <td>-0.0554</td>\n",
       "      <td>-0.0288</td>\n",
       "      <td>0.0117</td>\n",
       "    </tr>\n",
       "    <tr>\n",
       "      <th>1</th>\n",
       "      <td>0.1038</td>\n",
       "      <td>-0.0744</td>\n",
       "      <td>0.0269</td>\n",
       "      <td>-0.0028</td>\n",
       "      <td>0.0838</td>\n",
       "      <td>0.0215</td>\n",
       "      <td>0.0288</td>\n",
       "      <td>0.0136</td>\n",
       "      <td>-0.0070</td>\n",
       "      <td>-0.0160</td>\n",
       "      <td>...</td>\n",
       "      <td>-0.0060</td>\n",
       "      <td>0.0101</td>\n",
       "      <td>0.0295</td>\n",
       "      <td>-0.0448</td>\n",
       "      <td>-0.0057</td>\n",
       "      <td>0.0184</td>\n",
       "      <td>0.0780</td>\n",
       "      <td>0.0015</td>\n",
       "      <td>-0.0986</td>\n",
       "      <td>0.0743</td>\n",
       "    </tr>\n",
       "  </tbody>\n",
       "</table>\n",
       "<p>2 rows × 512 columns</p>\n",
       "</div>"
      ],
      "text/plain": [
       "        0       1       2       3       4       5       6       7       8  \\\n",
       "0  0.0462 -0.1063 -0.0272 -0.0048  0.0343  0.1125  0.0525 -0.0468  0.0044   \n",
       "1  0.1038 -0.0744  0.0269 -0.0028  0.0838  0.0215  0.0288  0.0136 -0.0070   \n",
       "\n",
       "        9  ...     502     503     504     505     506     507     508  \\\n",
       "0  0.0152  ...  0.0042  0.0066  0.0747 -0.0256 -0.0021 -0.0465 -0.0116   \n",
       "1 -0.0160  ... -0.0060  0.0101  0.0295 -0.0448 -0.0057  0.0184  0.0780   \n",
       "\n",
       "      509     510     511  \n",
       "0 -0.0554 -0.0288  0.0117  \n",
       "1  0.0015 -0.0986  0.0743  \n",
       "\n",
       "[2 rows x 512 columns]"
      ]
     },
     "execution_count": 25,
     "metadata": {},
     "output_type": "execute_result"
    }
   ],
   "source": [
    "df"
   ]
  },
  {
   "cell_type": "code",
   "execution_count": 56,
   "metadata": {},
   "outputs": [
    {
     "data": {
      "text/plain": [
       "(2, 512)"
      ]
     },
     "execution_count": 56,
     "metadata": {},
     "output_type": "execute_result"
    }
   ],
   "source": [
    "df.shape"
   ]
  },
  {
   "cell_type": "code",
   "execution_count": 57,
   "metadata": {},
   "outputs": [],
   "source": [
    "list_of_feature_vectors = []\n",
    "for row in range(df.shape[0]):\n",
    "    tab = np.array(df.iloc[row])\n",
    "    tab = tab.reshape((1,512))\n",
    "    tab_torch = torch.from_numpy(tab).type(torch.float32)\n",
    "    list_of_feature_vectors.append(tab_torch)"
   ]
  },
  {
   "cell_type": "code",
   "execution_count": 61,
   "metadata": {},
   "outputs": [
    {
     "data": {
      "text/plain": [
       "tensor(0.0462)"
      ]
     },
     "execution_count": 61,
     "metadata": {},
     "output_type": "execute_result"
    }
   ],
   "source": [
    "list_of_feature_vectors[0][0][0]"
   ]
  },
  {
   "cell_type": "code",
   "execution_count": 21,
   "metadata": {},
   "outputs": [],
   "source": [
    "import numpy as np\n",
    "import torch"
   ]
  },
  {
   "cell_type": "code",
   "execution_count": 36,
   "metadata": {},
   "outputs": [],
   "source": [
    "tab = np.array(df.iloc[0])\n"
   ]
  },
  {
   "cell_type": "code",
   "execution_count": 37,
   "metadata": {},
   "outputs": [],
   "source": [
    "tab = tab.reshape((1,512))"
   ]
  },
  {
   "cell_type": "code",
   "execution_count": 38,
   "metadata": {},
   "outputs": [
    {
     "data": {
      "text/plain": [
       "(1, 512)"
      ]
     },
     "execution_count": 38,
     "metadata": {},
     "output_type": "execute_result"
    }
   ],
   "source": [
    "tab.shape"
   ]
  },
  {
   "cell_type": "code",
   "execution_count": 40,
   "metadata": {},
   "outputs": [
    {
     "data": {
      "text/plain": [
       "0.0462"
      ]
     },
     "execution_count": 40,
     "metadata": {},
     "output_type": "execute_result"
    }
   ],
   "source": [
    "tab_torch = torch.from_numpy(tab).type(torch.float32)"
   ]
  },
  {
   "cell_type": "code",
   "execution_count": 53,
   "metadata": {},
   "outputs": [
    {
     "data": {
      "text/plain": [
       "tensor(0.0462)"
      ]
     },
     "execution_count": 53,
     "metadata": {},
     "output_type": "execute_result"
    }
   ],
   "source": [
    "tab_torch[0][0]"
   ]
  },
  {
   "cell_type": "code",
   "execution_count": 49,
   "metadata": {},
   "outputs": [],
   "source": [
    "tab_torch = torch.from_numpy(tab).type(torch.float32)"
   ]
  },
  {
   "cell_type": "code",
   "execution_count": 51,
   "metadata": {},
   "outputs": [
    {
     "data": {
      "text/plain": [
       "torch.float32"
      ]
     },
     "execution_count": 51,
     "metadata": {},
     "output_type": "execute_result"
    }
   ],
   "source": [
    "tab_torch[0][0].dtype"
   ]
  },
  {
   "cell_type": "code",
   "execution_count": 63,
   "metadata": {},
   "outputs": [
    {
     "data": {
      "text/plain": [
       "['frame', 1, 2, 3]"
      ]
     },
     "execution_count": 63,
     "metadata": {},
     "output_type": "execute_result"
    }
   ],
   "source": [
    "col = [1,2,3]\n",
    "col.insert(0,'frame')\n",
    "col"
   ]
  },
  {
   "cell_type": "code",
   "execution_count": 67,
   "metadata": {},
   "outputs": [
    {
     "data": {
      "text/plain": [
       "0      0.0462\n",
       "1     -0.1063\n",
       "2     -0.0272\n",
       "3     -0.0048\n",
       "4      0.0343\n",
       "        ...  \n",
       "507   -0.0465\n",
       "508   -0.0116\n",
       "509   -0.0554\n",
       "510   -0.0288\n",
       "511    0.0117\n",
       "Name: 0, Length: 512, dtype: float64"
      ]
     },
     "execution_count": 67,
     "metadata": {},
     "output_type": "execute_result"
    }
   ],
   "source": [
    "df.iloc[0,0:]"
   ]
  },
  {
   "cell_type": "code",
   "execution_count": 68,
   "metadata": {},
   "outputs": [],
   "source": [
    "path  = '/home/aszummer/Documents/MCV/M6/mcvm6team3/experiments/FasterRCNN_finetune_S01_S04_e2/S03/c010/features.txt'"
   ]
  },
  {
   "cell_type": "code",
   "execution_count": 69,
   "metadata": {},
   "outputs": [],
   "source": [
    "COL_NAMES = [str(x) for x in range(0,512)]\n",
    "COL_NAMES[0]\n",
    "df = pd.read_csv(path, delimiter=',', names=COL_NAMES)"
   ]
  },
  {
   "cell_type": "code",
   "execution_count": 70,
   "metadata": {},
   "outputs": [
    {
     "data": {
      "text/plain": [
       "(9432, 512)"
      ]
     },
     "execution_count": 70,
     "metadata": {},
     "output_type": "execute_result"
    }
   ],
   "source": [
    "df.shape"
   ]
  },
  {
   "cell_type": "code",
   "execution_count": 71,
   "metadata": {},
   "outputs": [
    {
     "data": {
      "text/plain": [
       "(5664, 512)"
      ]
     },
     "execution_count": 71,
     "metadata": {},
     "output_type": "execute_result"
    }
   ],
   "source": [
    "path  = '/home/aszummer/Documents/MCV/M6/mcvm6team3/experiments/FasterRCNN_finetune_S01_S04_e2/S03/c010/features0.5.txt'\n",
    "COL_NAMES = [str(x) for x in range(0,512)]\n",
    "COL_NAMES[0]\n",
    "df = pd.read_csv(path, delimiter=',', names=COL_NAMES)\n",
    "df.shape\n"
   ]
  },
  {
   "cell_type": "code",
   "execution_count": 72,
   "metadata": {},
   "outputs": [],
   "source": [
    "from pathlib import Path"
   ]
  },
  {
   "cell_type": "code",
   "execution_count": 84,
   "metadata": {},
   "outputs": [
    {
     "name": "stdout",
     "output_type": "stream",
     "text": [
      "/home/aszummer/Documents/MCV/M6/mcvm6team3/data/aic19-track1-mtmc-train/train/S01\n",
      "/home/aszummer/Documents/MCV/M6/mcvm6team3/data/aic19-track1-mtmc-train/train/S01/c002/vdo.avi\n",
      "/home/aszummer/Documents/MCV/M6/mcvm6team3/data/aic19-track1-mtmc-train/train/S03\n",
      "/home/aszummer/Documents/MCV/M6/mcvm6team3/data/aic19-track1-mtmc-train/train/S03/c011/vdo.avi\n",
      "/home/aszummer/Documents/MCV/M6/mcvm6team3/data/aic19-track1-mtmc-train/train/S04\n",
      "/home/aszummer/Documents/MCV/M6/mcvm6team3/data/aic19-track1-mtmc-train/train/S04/c027/vdo.avi\n"
     ]
    }
   ],
   "source": [
    "path_to_seqs = Path(\"/home/aszummer/Documents/MCV/M6/mcvm6team3/data/aic19-track1-mtmc-train/train\")\n",
    "paths_to_seqs = list(path_to_seqs.iterdir())\n",
    "for sequences in paths_to_seqs:\n",
    "    paths_to_cams = list(sequences.iterdir())\n",
    "    print(sequences)\n",
    "    for cams in paths_to_cams:\n",
    "        path_input = str(cams/'vdo.avi')\n",
    "        print(path_input)\n",
    "        break\n",
    "\n"
   ]
  },
  {
   "cell_type": "code",
   "execution_count": 81,
   "metadata": {},
   "outputs": [],
   "source": []
  },
  {
   "cell_type": "code",
   "execution_count": 82,
   "metadata": {},
   "outputs": [
    {
     "data": {
      "text/plain": [
       "[PosixPath('/home/aszummer/Documents/MCV/M6/mcvm6team3/data/aic19-track1-mtmc-train/train/S04/c027'),\n",
       " PosixPath('/home/aszummer/Documents/MCV/M6/mcvm6team3/data/aic19-track1-mtmc-train/train/S04/c023'),\n",
       " PosixPath('/home/aszummer/Documents/MCV/M6/mcvm6team3/data/aic19-track1-mtmc-train/train/S04/c026'),\n",
       " PosixPath('/home/aszummer/Documents/MCV/M6/mcvm6team3/data/aic19-track1-mtmc-train/train/S04/c028'),\n",
       " PosixPath('/home/aszummer/Documents/MCV/M6/mcvm6team3/data/aic19-track1-mtmc-train/train/S04/c030'),\n",
       " PosixPath('/home/aszummer/Documents/MCV/M6/mcvm6team3/data/aic19-track1-mtmc-train/train/S04/c025'),\n",
       " PosixPath('/home/aszummer/Documents/MCV/M6/mcvm6team3/data/aic19-track1-mtmc-train/train/S04/c038'),\n",
       " PosixPath('/home/aszummer/Documents/MCV/M6/mcvm6team3/data/aic19-track1-mtmc-train/train/S04/c019'),\n",
       " PosixPath('/home/aszummer/Documents/MCV/M6/mcvm6team3/data/aic19-track1-mtmc-train/train/S04/c020'),\n",
       " PosixPath('/home/aszummer/Documents/MCV/M6/mcvm6team3/data/aic19-track1-mtmc-train/train/S04/c017'),\n",
       " PosixPath('/home/aszummer/Documents/MCV/M6/mcvm6team3/data/aic19-track1-mtmc-train/train/S04/c022'),\n",
       " PosixPath('/home/aszummer/Documents/MCV/M6/mcvm6team3/data/aic19-track1-mtmc-train/train/S04/c031'),\n",
       " PosixPath('/home/aszummer/Documents/MCV/M6/mcvm6team3/data/aic19-track1-mtmc-train/train/S04/c037'),\n",
       " PosixPath('/home/aszummer/Documents/MCV/M6/mcvm6team3/data/aic19-track1-mtmc-train/train/S04/c033'),\n",
       " PosixPath('/home/aszummer/Documents/MCV/M6/mcvm6team3/data/aic19-track1-mtmc-train/train/S04/c032'),\n",
       " PosixPath('/home/aszummer/Documents/MCV/M6/mcvm6team3/data/aic19-track1-mtmc-train/train/S04/c036'),\n",
       " PosixPath('/home/aszummer/Documents/MCV/M6/mcvm6team3/data/aic19-track1-mtmc-train/train/S04/c016'),\n",
       " PosixPath('/home/aszummer/Documents/MCV/M6/mcvm6team3/data/aic19-track1-mtmc-train/train/S04/c024'),\n",
       " PosixPath('/home/aszummer/Documents/MCV/M6/mcvm6team3/data/aic19-track1-mtmc-train/train/S04/c035'),\n",
       " PosixPath('/home/aszummer/Documents/MCV/M6/mcvm6team3/data/aic19-track1-mtmc-train/train/S04/c029'),\n",
       " PosixPath('/home/aszummer/Documents/MCV/M6/mcvm6team3/data/aic19-track1-mtmc-train/train/S04/c021'),\n",
       " PosixPath('/home/aszummer/Documents/MCV/M6/mcvm6team3/data/aic19-track1-mtmc-train/train/S04/c040'),\n",
       " PosixPath('/home/aszummer/Documents/MCV/M6/mcvm6team3/data/aic19-track1-mtmc-train/train/S04/c018'),\n",
       " PosixPath('/home/aszummer/Documents/MCV/M6/mcvm6team3/data/aic19-track1-mtmc-train/train/S04/c039'),\n",
       " PosixPath('/home/aszummer/Documents/MCV/M6/mcvm6team3/data/aic19-track1-mtmc-train/train/S04/c034')]"
      ]
     },
     "execution_count": 82,
     "metadata": {},
     "output_type": "execute_result"
    }
   ],
   "source": [
    "paths_to_cams"
   ]
  },
  {
   "cell_type": "code",
   "execution_count": 97,
   "metadata": {},
   "outputs": [
    {
     "name": "stderr",
     "output_type": "stream",
     "text": [
      "<ipython-input-97-04d9f57f43b6>:14: FutureWarning: The input object of type 'Tensor' is an array-like implementing one of the corresponding protocols (`__array__`, `__array_interface__` or `__array_struct__`); but not a sequence (or 0-D). In the future, this object will be coerced as if it was first converted using `np.array(obj)`. To retain the old behaviour, you have to either modify the type 'Tensor', or assign to an empty array created with `np.empty(correct_shape, dtype=object)`.\n",
      "  result = [df['frame'].values, np.array(list_of_feature_vectors)]\n",
      "<ipython-input-97-04d9f57f43b6>:14: VisibleDeprecationWarning: Creating an ndarray from ragged nested sequences (which is a list-or-tuple of lists-or-tuples-or ndarrays with different lengths or shapes) is deprecated. If you meant to do this, you must specify 'dtype=object' when creating the ndarray.\n",
      "  result = [df['frame'].values, np.array(list_of_feature_vectors)]\n"
     ]
    }
   ],
   "source": [
    "    path = '/home/aszummer/Documents/MCV/M6/mcvm6team3/experiments/FasterRCNN_finetune_S01_S03_e2/S04/c016/features_all.txt'\n",
    "    \n",
    "    COL_NAMES = [str(x) for x in range(0,512)]\n",
    "    COL_NAMES.insert(0,'frame')\n",
    "    df = pd.read_csv(path, delimiter=',', names=COL_NAMES)\n",
    "\n",
    "    list_of_feature_vectors = []\n",
    "    for row in range(df.shape[0]):\n",
    "        tab = np.array(df.iloc[row,1:])\n",
    "        tab = tab.reshape((1,512))\n",
    "        tab_torch = torch.from_numpy(tab).type(torch.float32)\n",
    "        list_of_feature_vectors.append(tab_torch)\n",
    "    \n",
    "    result = [df['frame'].values, np.array(list_of_feature_vectors)]"
   ]
  },
  {
   "cell_type": "code",
   "execution_count": 92,
   "metadata": {},
   "outputs": [
    {
     "data": {
      "text/plain": [
       "array([309, 309, 309, 309, 309, 309, 309, 309, 309, 309, 309])"
      ]
     },
     "execution_count": 92,
     "metadata": {},
     "output_type": "execute_result"
    }
   ],
   "source": [
    "result[0][result[0]==309]"
   ]
  },
  {
   "cell_type": "code",
   "execution_count": 98,
   "metadata": {},
   "outputs": [],
   "source": [
    "    path = '/home/aszummer/Documents/MCV/M6/mcvm6team3/experiments/FasterRCNN_finetune_S01_S03_e2/S04/c016/dets_all.txt'\n",
    "    COL_NAMES = ['frame', 'bb_left', 'bb_top', 'bb_width', 'bb_height', 'conf']\n",
    "\n",
    "    predictions_dict = {}\n",
    "    df_det = pd.read_csv(path, delimiter=',', usecols=[0, 2, 3, 4, 5, 6], names=COL_NAMES)"
   ]
  },
  {
   "cell_type": "code",
   "execution_count": 99,
   "metadata": {},
   "outputs": [
    {
     "data": {
      "text/html": [
       "<div>\n",
       "<style scoped>\n",
       "    .dataframe tbody tr th:only-of-type {\n",
       "        vertical-align: middle;\n",
       "    }\n",
       "\n",
       "    .dataframe tbody tr th {\n",
       "        vertical-align: top;\n",
       "    }\n",
       "\n",
       "    .dataframe thead th {\n",
       "        text-align: right;\n",
       "    }\n",
       "</style>\n",
       "<table border=\"1\" class=\"dataframe\">\n",
       "  <thead>\n",
       "    <tr style=\"text-align: right;\">\n",
       "      <th></th>\n",
       "      <th>frame</th>\n",
       "      <th>0</th>\n",
       "      <th>1</th>\n",
       "      <th>2</th>\n",
       "      <th>3</th>\n",
       "      <th>4</th>\n",
       "      <th>5</th>\n",
       "      <th>6</th>\n",
       "      <th>7</th>\n",
       "      <th>8</th>\n",
       "      <th>...</th>\n",
       "      <th>502</th>\n",
       "      <th>503</th>\n",
       "      <th>504</th>\n",
       "      <th>505</th>\n",
       "      <th>506</th>\n",
       "      <th>507</th>\n",
       "      <th>508</th>\n",
       "      <th>509</th>\n",
       "      <th>510</th>\n",
       "      <th>511</th>\n",
       "    </tr>\n",
       "  </thead>\n",
       "  <tbody>\n",
       "    <tr>\n",
       "      <th>0</th>\n",
       "      <td>1</td>\n",
       "      <td>0.0061</td>\n",
       "      <td>-0.0696</td>\n",
       "      <td>0.0018</td>\n",
       "      <td>0.0354</td>\n",
       "      <td>0.0757</td>\n",
       "      <td>0.0263</td>\n",
       "      <td>-0.0288</td>\n",
       "      <td>-0.0413</td>\n",
       "      <td>0.0502</td>\n",
       "      <td>...</td>\n",
       "      <td>-0.0745</td>\n",
       "      <td>0.0215</td>\n",
       "      <td>0.0926</td>\n",
       "      <td>-0.0484</td>\n",
       "      <td>-0.0026</td>\n",
       "      <td>0.0166</td>\n",
       "      <td>-0.0003</td>\n",
       "      <td>0.0623</td>\n",
       "      <td>-0.0340</td>\n",
       "      <td>0.0427</td>\n",
       "    </tr>\n",
       "    <tr>\n",
       "      <th>1</th>\n",
       "      <td>1</td>\n",
       "      <td>-0.0641</td>\n",
       "      <td>-0.1053</td>\n",
       "      <td>0.0365</td>\n",
       "      <td>0.0032</td>\n",
       "      <td>0.0710</td>\n",
       "      <td>0.0356</td>\n",
       "      <td>-0.0260</td>\n",
       "      <td>-0.0189</td>\n",
       "      <td>0.0146</td>\n",
       "      <td>...</td>\n",
       "      <td>0.0059</td>\n",
       "      <td>-0.0203</td>\n",
       "      <td>0.1254</td>\n",
       "      <td>0.0325</td>\n",
       "      <td>0.0278</td>\n",
       "      <td>-0.0297</td>\n",
       "      <td>0.0393</td>\n",
       "      <td>-0.0606</td>\n",
       "      <td>-0.0739</td>\n",
       "      <td>0.0145</td>\n",
       "    </tr>\n",
       "    <tr>\n",
       "      <th>2</th>\n",
       "      <td>1</td>\n",
       "      <td>0.0408</td>\n",
       "      <td>-0.0635</td>\n",
       "      <td>0.0014</td>\n",
       "      <td>0.0403</td>\n",
       "      <td>0.0773</td>\n",
       "      <td>-0.0012</td>\n",
       "      <td>-0.0162</td>\n",
       "      <td>-0.0112</td>\n",
       "      <td>0.0291</td>\n",
       "      <td>...</td>\n",
       "      <td>-0.0634</td>\n",
       "      <td>0.0674</td>\n",
       "      <td>0.0378</td>\n",
       "      <td>-0.0326</td>\n",
       "      <td>0.0007</td>\n",
       "      <td>-0.0230</td>\n",
       "      <td>-0.0184</td>\n",
       "      <td>0.0674</td>\n",
       "      <td>0.0077</td>\n",
       "      <td>0.0348</td>\n",
       "    </tr>\n",
       "    <tr>\n",
       "      <th>3</th>\n",
       "      <td>1</td>\n",
       "      <td>0.0338</td>\n",
       "      <td>-0.0739</td>\n",
       "      <td>0.0118</td>\n",
       "      <td>-0.0036</td>\n",
       "      <td>0.0940</td>\n",
       "      <td>0.0213</td>\n",
       "      <td>0.0139</td>\n",
       "      <td>-0.0108</td>\n",
       "      <td>0.0113</td>\n",
       "      <td>...</td>\n",
       "      <td>-0.0442</td>\n",
       "      <td>0.0201</td>\n",
       "      <td>0.0556</td>\n",
       "      <td>0.0002</td>\n",
       "      <td>-0.0756</td>\n",
       "      <td>-0.0360</td>\n",
       "      <td>-0.0293</td>\n",
       "      <td>0.0566</td>\n",
       "      <td>0.0161</td>\n",
       "      <td>0.0064</td>\n",
       "    </tr>\n",
       "    <tr>\n",
       "      <th>4</th>\n",
       "      <td>2</td>\n",
       "      <td>0.0184</td>\n",
       "      <td>-0.0804</td>\n",
       "      <td>0.0019</td>\n",
       "      <td>0.0571</td>\n",
       "      <td>0.0915</td>\n",
       "      <td>0.0087</td>\n",
       "      <td>-0.0269</td>\n",
       "      <td>-0.0446</td>\n",
       "      <td>0.0537</td>\n",
       "      <td>...</td>\n",
       "      <td>-0.0736</td>\n",
       "      <td>0.0234</td>\n",
       "      <td>0.0793</td>\n",
       "      <td>-0.0278</td>\n",
       "      <td>-0.0035</td>\n",
       "      <td>0.0330</td>\n",
       "      <td>0.0248</td>\n",
       "      <td>0.0524</td>\n",
       "      <td>-0.0427</td>\n",
       "      <td>0.0500</td>\n",
       "    </tr>\n",
       "  </tbody>\n",
       "</table>\n",
       "<p>5 rows × 513 columns</p>\n",
       "</div>"
      ],
      "text/plain": [
       "   frame       0       1       2       3       4       5       6       7  \\\n",
       "0      1  0.0061 -0.0696  0.0018  0.0354  0.0757  0.0263 -0.0288 -0.0413   \n",
       "1      1 -0.0641 -0.1053  0.0365  0.0032  0.0710  0.0356 -0.0260 -0.0189   \n",
       "2      1  0.0408 -0.0635  0.0014  0.0403  0.0773 -0.0012 -0.0162 -0.0112   \n",
       "3      1  0.0338 -0.0739  0.0118 -0.0036  0.0940  0.0213  0.0139 -0.0108   \n",
       "4      2  0.0184 -0.0804  0.0019  0.0571  0.0915  0.0087 -0.0269 -0.0446   \n",
       "\n",
       "        8  ...     502     503     504     505     506     507     508  \\\n",
       "0  0.0502  ... -0.0745  0.0215  0.0926 -0.0484 -0.0026  0.0166 -0.0003   \n",
       "1  0.0146  ...  0.0059 -0.0203  0.1254  0.0325  0.0278 -0.0297  0.0393   \n",
       "2  0.0291  ... -0.0634  0.0674  0.0378 -0.0326  0.0007 -0.0230 -0.0184   \n",
       "3  0.0113  ... -0.0442  0.0201  0.0556  0.0002 -0.0756 -0.0360 -0.0293   \n",
       "4  0.0537  ... -0.0736  0.0234  0.0793 -0.0278 -0.0035  0.0330  0.0248   \n",
       "\n",
       "      509     510     511  \n",
       "0  0.0623 -0.0340  0.0427  \n",
       "1 -0.0606 -0.0739  0.0145  \n",
       "2  0.0674  0.0077  0.0348  \n",
       "3  0.0566  0.0161  0.0064  \n",
       "4  0.0524 -0.0427  0.0500  \n",
       "\n",
       "[5 rows x 513 columns]"
      ]
     },
     "execution_count": 99,
     "metadata": {},
     "output_type": "execute_result"
    }
   ],
   "source": [
    "df.head()"
   ]
  },
  {
   "cell_type": "code",
   "execution_count": 101,
   "metadata": {},
   "outputs": [
    {
     "data": {
      "text/html": [
       "<div>\n",
       "<style scoped>\n",
       "    .dataframe tbody tr th:only-of-type {\n",
       "        vertical-align: middle;\n",
       "    }\n",
       "\n",
       "    .dataframe tbody tr th {\n",
       "        vertical-align: top;\n",
       "    }\n",
       "\n",
       "    .dataframe thead th {\n",
       "        text-align: right;\n",
       "    }\n",
       "</style>\n",
       "<table border=\"1\" class=\"dataframe\">\n",
       "  <thead>\n",
       "    <tr style=\"text-align: right;\">\n",
       "      <th></th>\n",
       "      <th>frame</th>\n",
       "      <th>bb_left</th>\n",
       "      <th>bb_top</th>\n",
       "      <th>bb_width</th>\n",
       "      <th>bb_height</th>\n",
       "      <th>conf</th>\n",
       "    </tr>\n",
       "  </thead>\n",
       "  <tbody>\n",
       "    <tr>\n",
       "      <th>0</th>\n",
       "      <td>1</td>\n",
       "      <td>316.709045</td>\n",
       "      <td>537.927734</td>\n",
       "      <td>247.655273</td>\n",
       "      <td>209.197083</td>\n",
       "      <td>0.984004</td>\n",
       "    </tr>\n",
       "    <tr>\n",
       "      <th>1</th>\n",
       "      <td>1</td>\n",
       "      <td>931.526917</td>\n",
       "      <td>205.843292</td>\n",
       "      <td>150.732727</td>\n",
       "      <td>138.890839</td>\n",
       "      <td>0.981314</td>\n",
       "    </tr>\n",
       "    <tr>\n",
       "      <th>2</th>\n",
       "      <td>1</td>\n",
       "      <td>367.508270</td>\n",
       "      <td>521.147339</td>\n",
       "      <td>306.098114</td>\n",
       "      <td>251.334656</td>\n",
       "      <td>0.171370</td>\n",
       "    </tr>\n",
       "    <tr>\n",
       "      <th>3</th>\n",
       "      <td>1</td>\n",
       "      <td>359.552795</td>\n",
       "      <td>565.025757</td>\n",
       "      <td>385.375000</td>\n",
       "      <td>331.139648</td>\n",
       "      <td>0.083068</td>\n",
       "    </tr>\n",
       "    <tr>\n",
       "      <th>4</th>\n",
       "      <td>2</td>\n",
       "      <td>311.824799</td>\n",
       "      <td>544.120544</td>\n",
       "      <td>251.915924</td>\n",
       "      <td>205.270142</td>\n",
       "      <td>0.984537</td>\n",
       "    </tr>\n",
       "  </tbody>\n",
       "</table>\n",
       "</div>"
      ],
      "text/plain": [
       "   frame     bb_left      bb_top    bb_width   bb_height      conf\n",
       "0      1  316.709045  537.927734  247.655273  209.197083  0.984004\n",
       "1      1  931.526917  205.843292  150.732727  138.890839  0.981314\n",
       "2      1  367.508270  521.147339  306.098114  251.334656  0.171370\n",
       "3      1  359.552795  565.025757  385.375000  331.139648  0.083068\n",
       "4      2  311.824799  544.120544  251.915924  205.270142  0.984537"
      ]
     },
     "execution_count": 101,
     "metadata": {},
     "output_type": "execute_result"
    }
   ],
   "source": [
    "df_det.head()"
   ]
  },
  {
   "cell_type": "code",
   "execution_count": 117,
   "metadata": {},
   "outputs": [
    {
     "data": {
      "text/plain": [
       "frame\n",
       "1      [316.70904541015625, 931.5269165039062, 367.50...\n",
       "2      [311.8247985839844, 934.9119262695312, 365.831...\n",
       "3      [301.69244384765625, 940.2626342773438, 376.74...\n",
       "4      [294.7429504394531, 941.4710693359376, 458.783...\n",
       "5      [287.42303466796875, 942.1107177734376, 378.75...\n",
       "                             ...                        \n",
       "306    [1075.0899658203125, 888.6000366210938, 240.13...\n",
       "307    [1082.55615234375, 865.6908569335938, 1045.269...\n",
       "308    [1090.7509765625, 855.5480346679688, 1039.7692...\n",
       "309    [1096.671875, 1037.142578125, 845.057434082031...\n",
       "310    [1106.5040283203125, 1036.482177734375, 382.65...\n",
       "Name: bb_left, Length: 310, dtype: object"
      ]
     },
     "execution_count": 117,
     "metadata": {},
     "output_type": "execute_result"
    }
   ],
   "source": [
    "df_det.groupby('frame')['bb_left'].unique()"
   ]
  },
  {
   "cell_type": "code",
   "execution_count": 121,
   "metadata": {},
   "outputs": [
    {
     "data": {
      "text/plain": [
       "array([  1,   2,   3,   4,   5,   6,   7,   8,   9,  10,  11,  12,  13,\n",
       "        14,  15,  16,  17,  18,  19,  20,  21,  22,  23,  24,  25,  26,\n",
       "        27,  28,  29,  30,  31,  32,  33,  34,  35,  36,  37,  38,  39,\n",
       "        40,  41,  42,  43,  44,  45,  46,  47,  48,  51,  52,  53,  55,\n",
       "        56,  57,  58,  59,  60,  63,  64,  65,  66,  67,  68,  69,  70,\n",
       "        71,  72,  73,  74,  75,  76,  77,  78,  79,  80,  81,  82,  83,\n",
       "        84,  85,  86,  87,  88,  89,  90,  91,  92,  93,  94,  95,  96,\n",
       "        97,  98,  99, 100, 101, 102, 103, 104, 105, 106, 107, 108, 109,\n",
       "       110, 111, 112, 113, 114, 115, 116, 117, 118, 119, 120, 121, 122,\n",
       "       123, 124, 125, 126, 127, 128, 129, 130, 131, 132, 133, 134, 135,\n",
       "       136, 137, 138, 139, 140, 141, 142, 143, 144, 145, 146, 147, 148,\n",
       "       149, 150, 151, 152, 153, 154, 155, 156, 157, 158, 159, 160, 161,\n",
       "       162, 163, 164, 165, 166, 167, 168, 169, 170, 171, 172, 173, 174,\n",
       "       175, 176, 177, 178, 179, 180, 181, 182, 183, 184, 185, 186, 187,\n",
       "       188, 189, 190, 191, 192, 193, 194, 195, 196, 197, 198, 199, 200,\n",
       "       201, 202, 203, 204, 205, 206, 207, 208, 209, 210, 211, 212, 213,\n",
       "       214, 215, 216, 217, 218, 219, 220, 221, 222, 223, 224, 225, 226,\n",
       "       227, 228, 229, 230, 231, 232, 233, 234, 235, 236, 237, 238, 239,\n",
       "       240, 241, 242, 243, 244, 245, 246, 247, 248, 249, 250, 251, 252,\n",
       "       253, 254, 255, 256, 257, 258, 259, 260, 261, 262, 263, 264, 265,\n",
       "       266, 267, 268, 269, 270, 271, 272, 273, 274, 275, 276, 277, 278,\n",
       "       279, 280, 281, 282, 283, 284, 285, 286, 287, 288, 289, 290, 291,\n",
       "       292, 293, 294, 295, 296, 297, 298, 299, 300, 301, 302, 303, 304,\n",
       "       305, 306, 307, 308, 309, 310])"
      ]
     },
     "execution_count": 121,
     "metadata": {},
     "output_type": "execute_result"
    }
   ],
   "source": [
    "df['frame'].unique()"
   ]
  },
  {
   "cell_type": "code",
   "execution_count": 119,
   "metadata": {},
   "outputs": [
    {
     "data": {
      "text/plain": [
       "array([  1,   2,   3,   4,   5,   6,   7,   8,   9,  10,  11,  12,  13,\n",
       "        14,  15,  16,  17,  18,  19,  20,  21,  22,  23,  24,  25,  26,\n",
       "        27,  28,  29,  30,  31,  32,  33,  34,  35,  36,  37,  38,  39,\n",
       "        40,  41,  42,  43,  44,  45,  46,  47,  48,  49,  50,  51,  52,\n",
       "        53,  54,  55,  56,  57,  58,  59,  60,  61,  62,  63,  64,  65,\n",
       "        66,  67,  68,  69,  70,  71,  72,  73,  74,  75,  76,  77,  78,\n",
       "        79,  80,  81,  82,  83,  84,  85,  86,  87,  88,  89,  90,  91,\n",
       "        92,  93,  94,  95,  96,  97,  98,  99, 100, 101, 102, 103, 104,\n",
       "       105, 106, 107, 108, 109, 110, 111, 112, 113, 114, 115, 116, 117,\n",
       "       118, 119, 120, 121, 122, 123, 124, 125, 126, 127, 128, 129, 130,\n",
       "       131, 132, 133, 134, 135, 136, 137, 138, 139, 140, 141, 142, 143,\n",
       "       144, 145, 146, 147, 148, 149, 150, 151, 152, 153, 154, 155, 156,\n",
       "       157, 158, 159, 160, 161, 162, 163, 164, 165, 166, 167, 168, 169,\n",
       "       170, 171, 172, 173, 174, 175, 176, 177, 178, 179, 180, 181, 182,\n",
       "       183, 184, 185, 186, 187, 188, 189, 190, 191, 192, 193, 194, 195,\n",
       "       196, 197, 198, 199, 200, 201, 202, 203, 204, 205, 206, 207, 208,\n",
       "       209, 210, 211, 212, 213, 214, 215, 216, 217, 218, 219, 220, 221,\n",
       "       222, 223, 224, 225, 226, 227, 228, 229, 230, 231, 232, 233, 234,\n",
       "       235, 236, 237, 238, 239, 240, 241, 242, 243, 244, 245, 246, 247,\n",
       "       248, 249, 250, 251, 252, 253, 254, 255, 256, 257, 258, 259, 260,\n",
       "       261, 262, 263, 264, 265, 266, 267, 268, 269, 270, 271, 272, 273,\n",
       "       274, 275, 276, 277, 278, 279, 280, 281, 282, 283, 284, 285, 286,\n",
       "       287, 288, 289, 290, 291, 292, 293, 294, 295, 296, 297, 298, 299,\n",
       "       300, 301, 302, 303, 304, 305, 306, 307, 308, 309, 310])"
      ]
     },
     "execution_count": 119,
     "metadata": {},
     "output_type": "execute_result"
    }
   ],
   "source": [
    "df_det['frame'].unique()"
   ]
  },
  {
   "cell_type": "code",
   "execution_count": 123,
   "metadata": {},
   "outputs": [
    {
     "data": {
      "text/html": [
       "<div>\n",
       "<style scoped>\n",
       "    .dataframe tbody tr th:only-of-type {\n",
       "        vertical-align: middle;\n",
       "    }\n",
       "\n",
       "    .dataframe tbody tr th {\n",
       "        vertical-align: top;\n",
       "    }\n",
       "\n",
       "    .dataframe thead th {\n",
       "        text-align: right;\n",
       "    }\n",
       "</style>\n",
       "<table border=\"1\" class=\"dataframe\">\n",
       "  <thead>\n",
       "    <tr style=\"text-align: right;\">\n",
       "      <th></th>\n",
       "      <th>frame</th>\n",
       "      <th>bb_left</th>\n",
       "      <th>bb_top</th>\n",
       "      <th>bb_width</th>\n",
       "      <th>bb_height</th>\n",
       "      <th>conf</th>\n",
       "    </tr>\n",
       "  </thead>\n",
       "  <tbody>\n",
       "    <tr>\n",
       "      <th>217</th>\n",
       "      <td>49</td>\n",
       "      <td>1180.330078</td>\n",
       "      <td>115.781372</td>\n",
       "      <td>133.687744</td>\n",
       "      <td>111.086182</td>\n",
       "      <td>0.134692</td>\n",
       "    </tr>\n",
       "    <tr>\n",
       "      <th>218</th>\n",
       "      <td>49</td>\n",
       "      <td>402.789337</td>\n",
       "      <td>289.551483</td>\n",
       "      <td>385.764923</td>\n",
       "      <td>264.607941</td>\n",
       "      <td>0.054353</td>\n",
       "    </tr>\n",
       "  </tbody>\n",
       "</table>\n",
       "</div>"
      ],
      "text/plain": [
       "     frame      bb_left      bb_top    bb_width   bb_height      conf\n",
       "217     49  1180.330078  115.781372  133.687744  111.086182  0.134692\n",
       "218     49   402.789337  289.551483  385.764923  264.607941  0.054353"
      ]
     },
     "execution_count": 123,
     "metadata": {},
     "output_type": "execute_result"
    }
   ],
   "source": [
    "df_det[df_det['frame']==49]"
   ]
  },
  {
   "cell_type": "code",
   "execution_count": null,
   "metadata": {},
   "outputs": [],
   "source": []
  }
 ],
 "metadata": {
  "interpreter": {
   "hash": "5180dbdd6916478cc47a8d33a5dd0408e3ab0aeb9d09f1d4272c1b763ce04b71"
  },
  "kernelspec": {
   "display_name": "Python 3.8.13 ('M6')",
   "language": "python",
   "name": "python3"
  },
  "language_info": {
   "codemirror_mode": {
    "name": "ipython",
    "version": 3
   },
   "file_extension": ".py",
   "mimetype": "text/x-python",
   "name": "python",
   "nbconvert_exporter": "python",
   "pygments_lexer": "ipython3",
   "version": "3.8.13"
  },
  "orig_nbformat": 4
 },
 "nbformat": 4,
 "nbformat_minor": 2
}
