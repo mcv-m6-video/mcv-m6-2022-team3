{
 "cells": [
  {
   "cell_type": "code",
   "execution_count": 1,
   "metadata": {},
   "outputs": [],
   "source": [
    "import pandas as pd"
   ]
  },
  {
   "cell_type": "code",
   "execution_count": 2,
   "metadata": {},
   "outputs": [],
   "source": [
    "path = \"/home/aszummer/Documents/MCV/M6/mcvm6team3/experiments/det_S01_c002/dets.txt\""
   ]
  },
  {
   "cell_type": "code",
   "execution_count": 3,
   "metadata": {},
   "outputs": [],
   "source": [
    "COL_NAMES = ['frame','wtf', 'bb_left', 'bb_top', 'bb_width', 'bb_height', 'conf','del','del1', 'del2']\n",
    "\n",
    "predictions_dict = {}\n",
    "df = pd.read_csv(path, delimiter=',', names=COL_NAMES)"
   ]
  },
  {
   "cell_type": "code",
   "execution_count": 5,
   "metadata": {},
   "outputs": [
    {
     "data": {
      "text/html": [
       "<div>\n",
       "<style scoped>\n",
       "    .dataframe tbody tr th:only-of-type {\n",
       "        vertical-align: middle;\n",
       "    }\n",
       "\n",
       "    .dataframe tbody tr th {\n",
       "        vertical-align: top;\n",
       "    }\n",
       "\n",
       "    .dataframe thead th {\n",
       "        text-align: right;\n",
       "    }\n",
       "</style>\n",
       "<table border=\"1\" class=\"dataframe\">\n",
       "  <thead>\n",
       "    <tr style=\"text-align: right;\">\n",
       "      <th></th>\n",
       "      <th>frame</th>\n",
       "      <th>wtf</th>\n",
       "      <th>bb_left</th>\n",
       "      <th>bb_top</th>\n",
       "      <th>bb_width</th>\n",
       "      <th>bb_height</th>\n",
       "      <th>conf</th>\n",
       "      <th>del</th>\n",
       "      <th>del1</th>\n",
       "      <th>del2</th>\n",
       "    </tr>\n",
       "  </thead>\n",
       "  <tbody>\n",
       "    <tr>\n",
       "      <th>0</th>\n",
       "      <td>1</td>\n",
       "      <td>-1</td>\n",
       "      <td>125.547150</td>\n",
       "      <td>457.378235</td>\n",
       "      <td>497.644684</td>\n",
       "      <td>192.784485</td>\n",
       "      <td>0.995978</td>\n",
       "      <td>-1</td>\n",
       "      <td>-1</td>\n",
       "      <td>-1</td>\n",
       "    </tr>\n",
       "    <tr>\n",
       "      <th>1</th>\n",
       "      <td>1</td>\n",
       "      <td>-1</td>\n",
       "      <td>908.480835</td>\n",
       "      <td>215.337616</td>\n",
       "      <td>93.613708</td>\n",
       "      <td>93.334076</td>\n",
       "      <td>0.977238</td>\n",
       "      <td>-1</td>\n",
       "      <td>-1</td>\n",
       "      <td>-1</td>\n",
       "    </tr>\n",
       "    <tr>\n",
       "      <th>2</th>\n",
       "      <td>1</td>\n",
       "      <td>-1</td>\n",
       "      <td>867.040527</td>\n",
       "      <td>165.821320</td>\n",
       "      <td>71.281250</td>\n",
       "      <td>49.733170</td>\n",
       "      <td>0.976740</td>\n",
       "      <td>-1</td>\n",
       "      <td>-1</td>\n",
       "      <td>-1</td>\n",
       "    </tr>\n",
       "    <tr>\n",
       "      <th>3</th>\n",
       "      <td>1</td>\n",
       "      <td>-1</td>\n",
       "      <td>1265.807617</td>\n",
       "      <td>277.298828</td>\n",
       "      <td>95.997681</td>\n",
       "      <td>82.097351</td>\n",
       "      <td>0.943682</td>\n",
       "      <td>-1</td>\n",
       "      <td>-1</td>\n",
       "      <td>-1</td>\n",
       "    </tr>\n",
       "    <tr>\n",
       "      <th>4</th>\n",
       "      <td>1</td>\n",
       "      <td>-1</td>\n",
       "      <td>1312.205444</td>\n",
       "      <td>108.778412</td>\n",
       "      <td>60.943726</td>\n",
       "      <td>21.335312</td>\n",
       "      <td>0.908940</td>\n",
       "      <td>-1</td>\n",
       "      <td>-1</td>\n",
       "      <td>-1</td>\n",
       "    </tr>\n",
       "  </tbody>\n",
       "</table>\n",
       "</div>"
      ],
      "text/plain": [
       "   frame  wtf      bb_left      bb_top    bb_width   bb_height      conf  del  \\\n",
       "0      1   -1   125.547150  457.378235  497.644684  192.784485  0.995978   -1   \n",
       "1      1   -1   908.480835  215.337616   93.613708   93.334076  0.977238   -1   \n",
       "2      1   -1   867.040527  165.821320   71.281250   49.733170  0.976740   -1   \n",
       "3      1   -1  1265.807617  277.298828   95.997681   82.097351  0.943682   -1   \n",
       "4      1   -1  1312.205444  108.778412   60.943726   21.335312  0.908940   -1   \n",
       "\n",
       "   del1  del2  \n",
       "0    -1    -1  \n",
       "1    -1    -1  \n",
       "2    -1    -1  \n",
       "3    -1    -1  \n",
       "4    -1    -1  "
      ]
     },
     "execution_count": 5,
     "metadata": {},
     "output_type": "execute_result"
    }
   ],
   "source": [
    "df.head()"
   ]
  },
  {
   "cell_type": "code",
   "execution_count": 9,
   "metadata": {},
   "outputs": [
    {
     "data": {
      "text/plain": [
       "(69133, 10)"
      ]
     },
     "execution_count": 9,
     "metadata": {},
     "output_type": "execute_result"
    }
   ],
   "source": [
    "df.shape"
   ]
  },
  {
   "cell_type": "code",
   "execution_count": 39,
   "metadata": {},
   "outputs": [],
   "source": [
    "df_test = df\n",
    "df_bigger_then_1000 = df_test[(df_test['bb_width'] * df_test['bb_height']) > 3000]\n",
    "df_without_top_10 = df_bigger_then_1000[df_bigger_then_1000['bb_top']>100]"
   ]
  },
  {
   "cell_type": "code",
   "execution_count": 40,
   "metadata": {},
   "outputs": [
    {
     "data": {
      "text/plain": [
       "(17545, 10)"
      ]
     },
     "execution_count": 40,
     "metadata": {},
     "output_type": "execute_result"
    }
   ],
   "source": [
    "df_bigger_then_1000.shape"
   ]
  },
  {
   "cell_type": "code",
   "execution_count": 41,
   "metadata": {},
   "outputs": [
    {
     "data": {
      "text/plain": [
       "(13807, 10)"
      ]
     },
     "execution_count": 41,
     "metadata": {},
     "output_type": "execute_result"
    }
   ],
   "source": [
    "df_without_top_10.shape"
   ]
  },
  {
   "cell_type": "code",
   "execution_count": 42,
   "metadata": {},
   "outputs": [],
   "source": [
    "df_without_top_10.to_csv('dets_small.txt', index=False, header=False)"
   ]
  },
  {
   "cell_type": "code",
   "execution_count": 38,
   "metadata": {},
   "outputs": [
    {
     "data": {
      "text/html": [
       "<div>\n",
       "<style scoped>\n",
       "    .dataframe tbody tr th:only-of-type {\n",
       "        vertical-align: middle;\n",
       "    }\n",
       "\n",
       "    .dataframe tbody tr th {\n",
       "        vertical-align: top;\n",
       "    }\n",
       "\n",
       "    .dataframe thead th {\n",
       "        text-align: right;\n",
       "    }\n",
       "</style>\n",
       "<table border=\"1\" class=\"dataframe\">\n",
       "  <thead>\n",
       "    <tr style=\"text-align: right;\">\n",
       "      <th></th>\n",
       "      <th>frame</th>\n",
       "      <th>wtf</th>\n",
       "      <th>bb_left</th>\n",
       "      <th>bb_top</th>\n",
       "      <th>bb_width</th>\n",
       "      <th>bb_height</th>\n",
       "      <th>conf</th>\n",
       "      <th>del</th>\n",
       "      <th>del1</th>\n",
       "      <th>del2</th>\n",
       "    </tr>\n",
       "  </thead>\n",
       "  <tbody>\n",
       "    <tr>\n",
       "      <th>5</th>\n",
       "      <td>1</td>\n",
       "      <td>-1</td>\n",
       "      <td>722.762756</td>\n",
       "      <td>77.787109</td>\n",
       "      <td>29.893250</td>\n",
       "      <td>20.512169</td>\n",
       "      <td>0.780833</td>\n",
       "      <td>-1</td>\n",
       "      <td>-1</td>\n",
       "      <td>-1</td>\n",
       "    </tr>\n",
       "    <tr>\n",
       "      <th>8</th>\n",
       "      <td>1</td>\n",
       "      <td>-1</td>\n",
       "      <td>230.793289</td>\n",
       "      <td>41.624142</td>\n",
       "      <td>21.263458</td>\n",
       "      <td>20.091164</td>\n",
       "      <td>0.320179</td>\n",
       "      <td>-1</td>\n",
       "      <td>-1</td>\n",
       "      <td>-1</td>\n",
       "    </tr>\n",
       "    <tr>\n",
       "      <th>9</th>\n",
       "      <td>1</td>\n",
       "      <td>-1</td>\n",
       "      <td>408.770050</td>\n",
       "      <td>51.349976</td>\n",
       "      <td>21.667969</td>\n",
       "      <td>17.348450</td>\n",
       "      <td>0.315587</td>\n",
       "      <td>-1</td>\n",
       "      <td>-1</td>\n",
       "      <td>-1</td>\n",
       "    </tr>\n",
       "    <tr>\n",
       "      <th>10</th>\n",
       "      <td>1</td>\n",
       "      <td>-1</td>\n",
       "      <td>767.977417</td>\n",
       "      <td>59.644451</td>\n",
       "      <td>20.173096</td>\n",
       "      <td>14.311771</td>\n",
       "      <td>0.303920</td>\n",
       "      <td>-1</td>\n",
       "      <td>-1</td>\n",
       "      <td>-1</td>\n",
       "    </tr>\n",
       "    <tr>\n",
       "      <th>11</th>\n",
       "      <td>1</td>\n",
       "      <td>-1</td>\n",
       "      <td>385.498657</td>\n",
       "      <td>69.868347</td>\n",
       "      <td>28.111816</td>\n",
       "      <td>17.983971</td>\n",
       "      <td>0.291241</td>\n",
       "      <td>-1</td>\n",
       "      <td>-1</td>\n",
       "      <td>-1</td>\n",
       "    </tr>\n",
       "    <tr>\n",
       "      <th>...</th>\n",
       "      <td>...</td>\n",
       "      <td>...</td>\n",
       "      <td>...</td>\n",
       "      <td>...</td>\n",
       "      <td>...</td>\n",
       "      <td>...</td>\n",
       "      <td>...</td>\n",
       "      <td>...</td>\n",
       "      <td>...</td>\n",
       "      <td>...</td>\n",
       "    </tr>\n",
       "    <tr>\n",
       "      <th>69126</th>\n",
       "      <td>2110</td>\n",
       "      <td>-1</td>\n",
       "      <td>677.853638</td>\n",
       "      <td>68.620316</td>\n",
       "      <td>47.970886</td>\n",
       "      <td>20.835640</td>\n",
       "      <td>0.088422</td>\n",
       "      <td>-1</td>\n",
       "      <td>-1</td>\n",
       "      <td>-1</td>\n",
       "    </tr>\n",
       "    <tr>\n",
       "      <th>69127</th>\n",
       "      <td>2110</td>\n",
       "      <td>-1</td>\n",
       "      <td>304.598511</td>\n",
       "      <td>46.034626</td>\n",
       "      <td>34.343506</td>\n",
       "      <td>17.424938</td>\n",
       "      <td>0.083232</td>\n",
       "      <td>-1</td>\n",
       "      <td>-1</td>\n",
       "      <td>-1</td>\n",
       "    </tr>\n",
       "    <tr>\n",
       "      <th>69130</th>\n",
       "      <td>2110</td>\n",
       "      <td>-1</td>\n",
       "      <td>729.489075</td>\n",
       "      <td>69.916748</td>\n",
       "      <td>30.737549</td>\n",
       "      <td>24.011948</td>\n",
       "      <td>0.059890</td>\n",
       "      <td>-1</td>\n",
       "      <td>-1</td>\n",
       "      <td>-1</td>\n",
       "    </tr>\n",
       "    <tr>\n",
       "      <th>69131</th>\n",
       "      <td>2110</td>\n",
       "      <td>-1</td>\n",
       "      <td>313.558990</td>\n",
       "      <td>50.790253</td>\n",
       "      <td>33.528168</td>\n",
       "      <td>14.834183</td>\n",
       "      <td>0.059227</td>\n",
       "      <td>-1</td>\n",
       "      <td>-1</td>\n",
       "      <td>-1</td>\n",
       "    </tr>\n",
       "    <tr>\n",
       "      <th>69132</th>\n",
       "      <td>2110</td>\n",
       "      <td>-1</td>\n",
       "      <td>734.423035</td>\n",
       "      <td>79.524025</td>\n",
       "      <td>20.255737</td>\n",
       "      <td>19.135857</td>\n",
       "      <td>0.054960</td>\n",
       "      <td>-1</td>\n",
       "      <td>-1</td>\n",
       "      <td>-1</td>\n",
       "    </tr>\n",
       "  </tbody>\n",
       "</table>\n",
       "<p>39357 rows × 10 columns</p>\n",
       "</div>"
      ],
      "text/plain": [
       "       frame  wtf     bb_left     bb_top   bb_width  bb_height      conf  del  \\\n",
       "5          1   -1  722.762756  77.787109  29.893250  20.512169  0.780833   -1   \n",
       "8          1   -1  230.793289  41.624142  21.263458  20.091164  0.320179   -1   \n",
       "9          1   -1  408.770050  51.349976  21.667969  17.348450  0.315587   -1   \n",
       "10         1   -1  767.977417  59.644451  20.173096  14.311771  0.303920   -1   \n",
       "11         1   -1  385.498657  69.868347  28.111816  17.983971  0.291241   -1   \n",
       "...      ...  ...         ...        ...        ...        ...       ...  ...   \n",
       "69126   2110   -1  677.853638  68.620316  47.970886  20.835640  0.088422   -1   \n",
       "69127   2110   -1  304.598511  46.034626  34.343506  17.424938  0.083232   -1   \n",
       "69130   2110   -1  729.489075  69.916748  30.737549  24.011948  0.059890   -1   \n",
       "69131   2110   -1  313.558990  50.790253  33.528168  14.834183  0.059227   -1   \n",
       "69132   2110   -1  734.423035  79.524025  20.255737  19.135857  0.054960   -1   \n",
       "\n",
       "       del1  del2  \n",
       "5        -1    -1  \n",
       "8        -1    -1  \n",
       "9        -1    -1  \n",
       "10       -1    -1  \n",
       "11       -1    -1  \n",
       "...     ...   ...  \n",
       "69126    -1    -1  \n",
       "69127    -1    -1  \n",
       "69130    -1    -1  \n",
       "69131    -1    -1  \n",
       "69132    -1    -1  \n",
       "\n",
       "[39357 rows x 10 columns]"
      ]
     },
     "execution_count": 38,
     "metadata": {},
     "output_type": "execute_result"
    }
   ],
   "source": [
    "df_smaller_then_1000"
   ]
  },
  {
   "cell_type": "code",
   "execution_count": 17,
   "metadata": {},
   "outputs": [],
   "source": [
    "path  = '/home/aszummer/Documents/MCV/M6/mcvm6team3/experiments/FasterRCNN_finetune_S01_S04_e2/S03/c010/features.txt'"
   ]
  },
  {
   "cell_type": "code",
   "execution_count": 18,
   "metadata": {},
   "outputs": [
    {
     "data": {
      "text/plain": [
       "'0'"
      ]
     },
     "execution_count": 18,
     "metadata": {},
     "output_type": "execute_result"
    }
   ],
   "source": []
  },
  {
   "cell_type": "code",
   "execution_count": 19,
   "metadata": {},
   "outputs": [],
   "source": [
    "COL_NAMES = [str(x) for x in range(0,512)]\n",
    "COL_NAMES[0]\n",
    "df = pd.read_csv(path, delimiter=',', names=COL_NAMES)"
   ]
  },
  {
   "cell_type": "code",
   "execution_count": 25,
   "metadata": {},
   "outputs": [
    {
     "data": {
      "text/html": [
       "<div>\n",
       "<style scoped>\n",
       "    .dataframe tbody tr th:only-of-type {\n",
       "        vertical-align: middle;\n",
       "    }\n",
       "\n",
       "    .dataframe tbody tr th {\n",
       "        vertical-align: top;\n",
       "    }\n",
       "\n",
       "    .dataframe thead th {\n",
       "        text-align: right;\n",
       "    }\n",
       "</style>\n",
       "<table border=\"1\" class=\"dataframe\">\n",
       "  <thead>\n",
       "    <tr style=\"text-align: right;\">\n",
       "      <th></th>\n",
       "      <th>0</th>\n",
       "      <th>1</th>\n",
       "      <th>2</th>\n",
       "      <th>3</th>\n",
       "      <th>4</th>\n",
       "      <th>5</th>\n",
       "      <th>6</th>\n",
       "      <th>7</th>\n",
       "      <th>8</th>\n",
       "      <th>9</th>\n",
       "      <th>...</th>\n",
       "      <th>502</th>\n",
       "      <th>503</th>\n",
       "      <th>504</th>\n",
       "      <th>505</th>\n",
       "      <th>506</th>\n",
       "      <th>507</th>\n",
       "      <th>508</th>\n",
       "      <th>509</th>\n",
       "      <th>510</th>\n",
       "      <th>511</th>\n",
       "    </tr>\n",
       "  </thead>\n",
       "  <tbody>\n",
       "    <tr>\n",
       "      <th>0</th>\n",
       "      <td>0.0462</td>\n",
       "      <td>-0.1063</td>\n",
       "      <td>-0.0272</td>\n",
       "      <td>-0.0048</td>\n",
       "      <td>0.0343</td>\n",
       "      <td>0.1125</td>\n",
       "      <td>0.0525</td>\n",
       "      <td>-0.0468</td>\n",
       "      <td>0.0044</td>\n",
       "      <td>0.0152</td>\n",
       "      <td>...</td>\n",
       "      <td>0.0042</td>\n",
       "      <td>0.0066</td>\n",
       "      <td>0.0747</td>\n",
       "      <td>-0.0256</td>\n",
       "      <td>-0.0021</td>\n",
       "      <td>-0.0465</td>\n",
       "      <td>-0.0116</td>\n",
       "      <td>-0.0554</td>\n",
       "      <td>-0.0288</td>\n",
       "      <td>0.0117</td>\n",
       "    </tr>\n",
       "    <tr>\n",
       "      <th>1</th>\n",
       "      <td>0.1038</td>\n",
       "      <td>-0.0744</td>\n",
       "      <td>0.0269</td>\n",
       "      <td>-0.0028</td>\n",
       "      <td>0.0838</td>\n",
       "      <td>0.0215</td>\n",
       "      <td>0.0288</td>\n",
       "      <td>0.0136</td>\n",
       "      <td>-0.0070</td>\n",
       "      <td>-0.0160</td>\n",
       "      <td>...</td>\n",
       "      <td>-0.0060</td>\n",
       "      <td>0.0101</td>\n",
       "      <td>0.0295</td>\n",
       "      <td>-0.0448</td>\n",
       "      <td>-0.0057</td>\n",
       "      <td>0.0184</td>\n",
       "      <td>0.0780</td>\n",
       "      <td>0.0015</td>\n",
       "      <td>-0.0986</td>\n",
       "      <td>0.0743</td>\n",
       "    </tr>\n",
       "  </tbody>\n",
       "</table>\n",
       "<p>2 rows × 512 columns</p>\n",
       "</div>"
      ],
      "text/plain": [
       "        0       1       2       3       4       5       6       7       8  \\\n",
       "0  0.0462 -0.1063 -0.0272 -0.0048  0.0343  0.1125  0.0525 -0.0468  0.0044   \n",
       "1  0.1038 -0.0744  0.0269 -0.0028  0.0838  0.0215  0.0288  0.0136 -0.0070   \n",
       "\n",
       "        9  ...     502     503     504     505     506     507     508  \\\n",
       "0  0.0152  ...  0.0042  0.0066  0.0747 -0.0256 -0.0021 -0.0465 -0.0116   \n",
       "1 -0.0160  ... -0.0060  0.0101  0.0295 -0.0448 -0.0057  0.0184  0.0780   \n",
       "\n",
       "      509     510     511  \n",
       "0 -0.0554 -0.0288  0.0117  \n",
       "1  0.0015 -0.0986  0.0743  \n",
       "\n",
       "[2 rows x 512 columns]"
      ]
     },
     "execution_count": 25,
     "metadata": {},
     "output_type": "execute_result"
    }
   ],
   "source": [
    "df"
   ]
  },
  {
   "cell_type": "code",
   "execution_count": 56,
   "metadata": {},
   "outputs": [
    {
     "data": {
      "text/plain": [
       "(2, 512)"
      ]
     },
     "execution_count": 56,
     "metadata": {},
     "output_type": "execute_result"
    }
   ],
   "source": [
    "df.shape"
   ]
  },
  {
   "cell_type": "code",
   "execution_count": 57,
   "metadata": {},
   "outputs": [],
   "source": [
    "list_of_feature_vectors = []\n",
    "for row in range(df.shape[0]):\n",
    "    tab = np.array(df.iloc[row])\n",
    "    tab = tab.reshape((1,512))\n",
    "    tab_torch = torch.from_numpy(tab).type(torch.float32)\n",
    "    list_of_feature_vectors.append(tab_torch)"
   ]
  },
  {
   "cell_type": "code",
   "execution_count": 61,
   "metadata": {},
   "outputs": [
    {
     "data": {
      "text/plain": [
       "tensor(0.0462)"
      ]
     },
     "execution_count": 61,
     "metadata": {},
     "output_type": "execute_result"
    }
   ],
   "source": [
    "list_of_feature_vectors[0][0][0]"
   ]
  },
  {
   "cell_type": "code",
   "execution_count": 21,
   "metadata": {},
   "outputs": [],
   "source": [
    "import numpy as np\n",
    "import torch"
   ]
  },
  {
   "cell_type": "code",
   "execution_count": 36,
   "metadata": {},
   "outputs": [],
   "source": [
    "tab = np.array(df.iloc[0])\n"
   ]
  },
  {
   "cell_type": "code",
   "execution_count": 37,
   "metadata": {},
   "outputs": [],
   "source": [
    "tab = tab.reshape((1,512))"
   ]
  },
  {
   "cell_type": "code",
   "execution_count": 38,
   "metadata": {},
   "outputs": [
    {
     "data": {
      "text/plain": [
       "(1, 512)"
      ]
     },
     "execution_count": 38,
     "metadata": {},
     "output_type": "execute_result"
    }
   ],
   "source": [
    "tab.shape"
   ]
  },
  {
   "cell_type": "code",
   "execution_count": 40,
   "metadata": {},
   "outputs": [
    {
     "data": {
      "text/plain": [
       "0.0462"
      ]
     },
     "execution_count": 40,
     "metadata": {},
     "output_type": "execute_result"
    }
   ],
   "source": [
    "tab_torch = torch.from_numpy(tab).type(torch.float32)"
   ]
  },
  {
   "cell_type": "code",
   "execution_count": 53,
   "metadata": {},
   "outputs": [
    {
     "data": {
      "text/plain": [
       "tensor(0.0462)"
      ]
     },
     "execution_count": 53,
     "metadata": {},
     "output_type": "execute_result"
    }
   ],
   "source": [
    "tab_torch[0][0]"
   ]
  },
  {
   "cell_type": "code",
   "execution_count": 49,
   "metadata": {},
   "outputs": [],
   "source": [
    "tab_torch = torch.from_numpy(tab).type(torch.float32)"
   ]
  },
  {
   "cell_type": "code",
   "execution_count": 51,
   "metadata": {},
   "outputs": [
    {
     "data": {
      "text/plain": [
       "torch.float32"
      ]
     },
     "execution_count": 51,
     "metadata": {},
     "output_type": "execute_result"
    }
   ],
   "source": [
    "tab_torch[0][0].dtype"
   ]
  },
  {
   "cell_type": "code",
   "execution_count": 63,
   "metadata": {},
   "outputs": [
    {
     "data": {
      "text/plain": [
       "['frame', 1, 2, 3]"
      ]
     },
     "execution_count": 63,
     "metadata": {},
     "output_type": "execute_result"
    }
   ],
   "source": [
    "col = [1,2,3]\n",
    "col.insert(0,'frame')\n",
    "col"
   ]
  },
  {
   "cell_type": "code",
   "execution_count": 67,
   "metadata": {},
   "outputs": [
    {
     "data": {
      "text/plain": [
       "0      0.0462\n",
       "1     -0.1063\n",
       "2     -0.0272\n",
       "3     -0.0048\n",
       "4      0.0343\n",
       "        ...  \n",
       "507   -0.0465\n",
       "508   -0.0116\n",
       "509   -0.0554\n",
       "510   -0.0288\n",
       "511    0.0117\n",
       "Name: 0, Length: 512, dtype: float64"
      ]
     },
     "execution_count": 67,
     "metadata": {},
     "output_type": "execute_result"
    }
   ],
   "source": [
    "df.iloc[0,0:]"
   ]
  },
  {
   "cell_type": "code",
   "execution_count": 68,
   "metadata": {},
   "outputs": [],
   "source": [
    "path  = '/home/aszummer/Documents/MCV/M6/mcvm6team3/experiments/FasterRCNN_finetune_S01_S04_e2/S03/c010/features.txt'"
   ]
  },
  {
   "cell_type": "code",
   "execution_count": 69,
   "metadata": {},
   "outputs": [],
   "source": [
    "COL_NAMES = [str(x) for x in range(0,512)]\n",
    "COL_NAMES[0]\n",
    "df = pd.read_csv(path, delimiter=',', names=COL_NAMES)"
   ]
  },
  {
   "cell_type": "code",
   "execution_count": 70,
   "metadata": {},
   "outputs": [
    {
     "data": {
      "text/plain": [
       "(9432, 512)"
      ]
     },
     "execution_count": 70,
     "metadata": {},
     "output_type": "execute_result"
    }
   ],
   "source": [
    "df.shape"
   ]
  },
  {
   "cell_type": "code",
   "execution_count": 71,
   "metadata": {},
   "outputs": [
    {
     "data": {
      "text/plain": [
       "(5664, 512)"
      ]
     },
     "execution_count": 71,
     "metadata": {},
     "output_type": "execute_result"
    }
   ],
   "source": [
    "path  = '/home/aszummer/Documents/MCV/M6/mcvm6team3/experiments/FasterRCNN_finetune_S01_S04_e2/S03/c010/features0.5.txt'\n",
    "COL_NAMES = [str(x) for x in range(0,512)]\n",
    "COL_NAMES[0]\n",
    "df = pd.read_csv(path, delimiter=',', names=COL_NAMES)\n",
    "df.shape\n"
   ]
  },
  {
   "cell_type": "code",
   "execution_count": 72,
   "metadata": {},
   "outputs": [],
   "source": [
    "from pathlib import Path"
   ]
  },
  {
   "cell_type": "code",
   "execution_count": 84,
   "metadata": {},
   "outputs": [
    {
     "name": "stdout",
     "output_type": "stream",
     "text": [
      "/home/aszummer/Documents/MCV/M6/mcvm6team3/data/aic19-track1-mtmc-train/train/S01\n",
      "/home/aszummer/Documents/MCV/M6/mcvm6team3/data/aic19-track1-mtmc-train/train/S01/c002/vdo.avi\n",
      "/home/aszummer/Documents/MCV/M6/mcvm6team3/data/aic19-track1-mtmc-train/train/S03\n",
      "/home/aszummer/Documents/MCV/M6/mcvm6team3/data/aic19-track1-mtmc-train/train/S03/c011/vdo.avi\n",
      "/home/aszummer/Documents/MCV/M6/mcvm6team3/data/aic19-track1-mtmc-train/train/S04\n",
      "/home/aszummer/Documents/MCV/M6/mcvm6team3/data/aic19-track1-mtmc-train/train/S04/c027/vdo.avi\n"
     ]
    }
   ],
   "source": [
    "path_to_seqs = Path(\"/home/aszummer/Documents/MCV/M6/mcvm6team3/data/aic19-track1-mtmc-train/train\")\n",
    "paths_to_seqs = list(path_to_seqs.iterdir())\n",
    "for sequences in paths_to_seqs:\n",
    "    paths_to_cams = list(sequences.iterdir())\n",
    "    print(sequences)\n",
    "    for cams in paths_to_cams:\n",
    "        path_input = str(cams/'vdo.avi')\n",
    "        print(path_input)\n",
    "        break\n",
    "\n"
   ]
  },
  {
   "cell_type": "code",
   "execution_count": 81,
   "metadata": {},
   "outputs": [],
   "source": []
  },
  {
   "cell_type": "code",
   "execution_count": 82,
   "metadata": {},
   "outputs": [
    {
     "data": {
      "text/plain": [
       "[PosixPath('/home/aszummer/Documents/MCV/M6/mcvm6team3/data/aic19-track1-mtmc-train/train/S04/c027'),\n",
       " PosixPath('/home/aszummer/Documents/MCV/M6/mcvm6team3/data/aic19-track1-mtmc-train/train/S04/c023'),\n",
       " PosixPath('/home/aszummer/Documents/MCV/M6/mcvm6team3/data/aic19-track1-mtmc-train/train/S04/c026'),\n",
       " PosixPath('/home/aszummer/Documents/MCV/M6/mcvm6team3/data/aic19-track1-mtmc-train/train/S04/c028'),\n",
       " PosixPath('/home/aszummer/Documents/MCV/M6/mcvm6team3/data/aic19-track1-mtmc-train/train/S04/c030'),\n",
       " PosixPath('/home/aszummer/Documents/MCV/M6/mcvm6team3/data/aic19-track1-mtmc-train/train/S04/c025'),\n",
       " PosixPath('/home/aszummer/Documents/MCV/M6/mcvm6team3/data/aic19-track1-mtmc-train/train/S04/c038'),\n",
       " PosixPath('/home/aszummer/Documents/MCV/M6/mcvm6team3/data/aic19-track1-mtmc-train/train/S04/c019'),\n",
       " PosixPath('/home/aszummer/Documents/MCV/M6/mcvm6team3/data/aic19-track1-mtmc-train/train/S04/c020'),\n",
       " PosixPath('/home/aszummer/Documents/MCV/M6/mcvm6team3/data/aic19-track1-mtmc-train/train/S04/c017'),\n",
       " PosixPath('/home/aszummer/Documents/MCV/M6/mcvm6team3/data/aic19-track1-mtmc-train/train/S04/c022'),\n",
       " PosixPath('/home/aszummer/Documents/MCV/M6/mcvm6team3/data/aic19-track1-mtmc-train/train/S04/c031'),\n",
       " PosixPath('/home/aszummer/Documents/MCV/M6/mcvm6team3/data/aic19-track1-mtmc-train/train/S04/c037'),\n",
       " PosixPath('/home/aszummer/Documents/MCV/M6/mcvm6team3/data/aic19-track1-mtmc-train/train/S04/c033'),\n",
       " PosixPath('/home/aszummer/Documents/MCV/M6/mcvm6team3/data/aic19-track1-mtmc-train/train/S04/c032'),\n",
       " PosixPath('/home/aszummer/Documents/MCV/M6/mcvm6team3/data/aic19-track1-mtmc-train/train/S04/c036'),\n",
       " PosixPath('/home/aszummer/Documents/MCV/M6/mcvm6team3/data/aic19-track1-mtmc-train/train/S04/c016'),\n",
       " PosixPath('/home/aszummer/Documents/MCV/M6/mcvm6team3/data/aic19-track1-mtmc-train/train/S04/c024'),\n",
       " PosixPath('/home/aszummer/Documents/MCV/M6/mcvm6team3/data/aic19-track1-mtmc-train/train/S04/c035'),\n",
       " PosixPath('/home/aszummer/Documents/MCV/M6/mcvm6team3/data/aic19-track1-mtmc-train/train/S04/c029'),\n",
       " PosixPath('/home/aszummer/Documents/MCV/M6/mcvm6team3/data/aic19-track1-mtmc-train/train/S04/c021'),\n",
       " PosixPath('/home/aszummer/Documents/MCV/M6/mcvm6team3/data/aic19-track1-mtmc-train/train/S04/c040'),\n",
       " PosixPath('/home/aszummer/Documents/MCV/M6/mcvm6team3/data/aic19-track1-mtmc-train/train/S04/c018'),\n",
       " PosixPath('/home/aszummer/Documents/MCV/M6/mcvm6team3/data/aic19-track1-mtmc-train/train/S04/c039'),\n",
       " PosixPath('/home/aszummer/Documents/MCV/M6/mcvm6team3/data/aic19-track1-mtmc-train/train/S04/c034')]"
      ]
     },
     "execution_count": 82,
     "metadata": {},
     "output_type": "execute_result"
    }
   ],
   "source": [
    "paths_to_cams"
   ]
  },
  {
   "cell_type": "code",
   "execution_count": null,
   "metadata": {},
   "outputs": [],
   "source": []
  }
 ],
 "metadata": {
  "interpreter": {
   "hash": "5180dbdd6916478cc47a8d33a5dd0408e3ab0aeb9d09f1d4272c1b763ce04b71"
  },
  "kernelspec": {
   "display_name": "Python 3.8.13 ('M6')",
   "language": "python",
   "name": "python3"
  },
  "language_info": {
   "codemirror_mode": {
    "name": "ipython",
    "version": 3
   },
   "file_extension": ".py",
   "mimetype": "text/x-python",
   "name": "python",
   "nbconvert_exporter": "python",
   "pygments_lexer": "ipython3",
   "version": "3.8.13"
  },
  "orig_nbformat": 4
 },
 "nbformat": 4,
 "nbformat_minor": 2
}
